{
 "cells": [
  {
   "cell_type": "markdown",
   "metadata": {},
   "source": [
    "## 1. Python을 통한 DB Connection"
   ]
  },
  {
   "cell_type": "markdown",
   "metadata": {},
   "source": [
    "### 1-1 Postgresql 라이브러리(psycopg2)를 활용한 Connection"
   ]
  },
  {
   "cell_type": "markdown",
   "metadata": {},
   "source": [
    "##### 1) Connection"
   ]
  },
  {
   "cell_type": "code",
   "execution_count": 2,
   "metadata": {},
   "outputs": [],
   "source": [
    "import psycopg2\n",
    "\n",
    "# database connection 생성\n",
    "db = psycopg2.connect(host='localhost', dbname='postgres', user='hyunsoo', password='150808', port=5432)\n",
    "\n",
    "# 커서 생성 > 특정 SQL 문장을 처리한 결과를 담고 있는 영역을 가리키는 일종의 포인터 / 쿼리문에 의해서 반환되는 결과값들을 저장하는 메모리공간\n",
    "cursor=db.cursor()"
   ]
  },
  {
   "cell_type": "markdown",
   "metadata": {},
   "source": [
    "##### 2) CRUD Execution"
   ]
  },
  {
   "cell_type": "code",
   "execution_count": 9,
   "metadata": {},
   "outputs": [],
   "source": [
    "create_query = \"CREATE TABLE lecture (id SERIAL PRIMARY KEY, name VARCHAR(32), year INT, gender VARCHAR(10), count INT);\"\n",
    "\n",
    "insert_query = \"INSERT INTO lecture VALUES(2, 'Tom', 2023, 'M', 1100);\"\n",
    "\n",
    "update_query = \"\"\"\n",
    "            UPDATE lecture \n",
    "            SET id = 1,\n",
    "                name = 'HYUNSOO',\n",
    "                year = '1991',\n",
    "                gender = 'M',\n",
    "                count = '1000'\n",
    "            WHERE id = 1;\n",
    "            \"\"\"\n",
    "delete_query = \"DELETE FROM lecture WHERE id = 1;\""
   ]
  },
  {
   "cell_type": "code",
   "execution_count": null,
   "metadata": {},
   "outputs": [],
   "source": [
    "# CREATE TABLE\n",
    "\n",
    "cursor.execute(create_query)\n",
    "db.commit()"
   ]
  },
  {
   "cell_type": "code",
   "execution_count": null,
   "metadata": {},
   "outputs": [],
   "source": [
    "# INSERT ROW\n",
    "\n",
    "cursor.execute(insert_query)\n",
    "db.commit()\n",
    "\n",
    "cursor.execute(\"SELECT * FROM lecture\")\n",
    "cursor.fetchall()"
   ]
  },
  {
   "cell_type": "code",
   "execution_count": null,
   "metadata": {},
   "outputs": [],
   "source": [
    "# UPDATE ROW\n",
    "\n",
    "cursor.execute(update_query)\n",
    "db.commit()\n",
    "\n",
    "cursor.execute(\"SELECT * FROM lecture\")\n",
    "cursor.fetchall()"
   ]
  },
  {
   "cell_type": "code",
   "execution_count": 11,
   "metadata": {},
   "outputs": [],
   "source": [
    "# DELETE ROW\n",
    "\n",
    "cursor.execute(delete_query)\n",
    "db.commit()\n",
    "\n",
    "cursor.execute(\"SELECT * FROM lecture\")\n",
    "cursor.fetchall()"
   ]
  },
  {
   "cell_type": "markdown",
   "metadata": {},
   "source": [
    "#### 3) Connection Pool\n",
    "\n",
    "<img src=\"https://velog.velcdn.com/images/newnew_daddy/post/f0569aa7-1aad-466e-a24f-5e3b5f248a72/image.png\" width=\"30%\">\n",
    "\n",
    "- 일정량의 Connection 객체를 미리 만들어서 pool에 저장\n",
    "- 클라이언트 요청이 오면 Connection 객체를 빌려주고 해당 객체의 임무가 완료되면 다시 Connection 객체를 반납 받아 pool에 저장\n",
    "- 큰 커넥션 풀은 메모리 소모가 큰 대신 대기 시간이 적어지고, 작은 커넥션 풀은 메모리 소모가 작은 대신 대기 시간이 길어진다. ([적정 Connection 수 공식](https://github.com/brettwooldridge/HikariCP/wiki/About-Pool-Sizing#the-formula))\n",
    "- 자원을 사용하면 반드시 반납을 해줘야하는데 이를 위해 DB 연결시 파이썬 `with문`을 사용"
   ]
  },
  {
   "cell_type": "code",
   "execution_count": 5,
   "metadata": {},
   "outputs": [],
   "source": [
    "## Connection 종료\n",
    "\n",
    "cursor.close()"
   ]
  },
  {
   "cell_type": "markdown",
   "metadata": {},
   "source": [
    "### 1-2. ORM 라이브러리(sqlalchemy)를 활용한 Connection\n",
    "\n",
    "#### ORM(Object Relational Mapping) 이란?\n",
    "\n",
    "<img src=\"https://velog.velcdn.com/images/newnew_daddy/post/ca5652a2-0686-462b-bed4-4483815708e5/image.png\" width=\"40%\">\n",
    "\n",
    "- Python 객체와 관계형 DB의 data를 매핑해주는 것\n",
    "- 장점\n",
    "    - Query가 아닌 코드로 데이터를 조작할 수 있어 개발자가 프로그래밍에 더 집중할 수 있도록 도와준다.\n",
    "    - 재사용 및 유지보수의 편리성이 증가한다.\n",
    "    - DBMS에 대한 종속성이 줄어든다.\n",
    "\n",
    "- 단점\n",
    "  - 완벽한 ORM으로만 서비스를 구현하기 어렵다.\n",
    "  - 프로시저가 많은 시스템에선 ORM의 객체 지향적인 장점을 활용하기 어렵다."
   ]
  },
  {
   "cell_type": "markdown",
   "metadata": {},
   "source": [
    "##### 1) Connection 및 Session"
   ]
  },
  {
   "cell_type": "code",
   "execution_count": 2,
   "metadata": {},
   "outputs": [],
   "source": [
    "from sqlalchemy import create_engine\n",
    "from sqlalchemy.orm import sessionmaker\n",
    "\n",
    "engine_name = 'postgresql'\n",
    "user_id = ''\n",
    "user_pw = ''\n",
    "host = ''\n",
    "port = ''\n",
    "database = ''\n",
    "\n",
    "db = create_engine(f'{engine_name}://{user_id}:{user_pw}@{host}:{port}/{database}')\n",
    "\n",
    "Session = sessionmaker(db)\n",
    "session = Session()"
   ]
  },
  {
   "cell_type": "markdown",
   "metadata": {},
   "source": [
    "##### 2) 매핑 테이블 생성"
   ]
  },
  {
   "cell_type": "code",
   "execution_count": 3,
   "metadata": {},
   "outputs": [],
   "source": [
    "from sqlalchemy import Column, INTEGER, VARCHAR\n",
    "from sqlalchemy.orm import declarative_base\n",
    "\n",
    "Base = declarative_base()\n",
    "\n",
    "class lecture(Base):\n",
    "    __tablename__ = 'lecture'\n",
    "    \n",
    "    id = Column('id', INTEGER, primary_key=True, autoincrement=True)\n",
    "    name = Column('name', VARCHAR(10), nullable=False)\n",
    "    year = Column('year', INTEGER, nullable=False)\n",
    "    gender = Column('gender', VARCHAR(10), nullable=False)\n",
    "    count = Column('count', INTEGER, nullable=False)\n",
    "\n",
    "# Create\n",
    "Base.metadata.create_all(db)\n",
    "\n",
    "# Drop\n",
    "# Sample.__table__.drop(db)"
   ]
  },
  {
   "cell_type": "markdown",
   "metadata": {},
   "source": [
    "##### 3) ORM을 활용한 CRUD"
   ]
  },
  {
   "cell_type": "code",
   "execution_count": 4,
   "metadata": {},
   "outputs": [
    {
     "data": {
      "text/plain": [
       "(2, 'Tom', 2023, 'M', 1100)"
      ]
     },
     "execution_count": 4,
     "metadata": {},
     "output_type": "execute_result"
    }
   ],
   "source": [
    "# 1) SELECT ONE\n",
    "\n",
    "res = session.query(lecture).first()\n",
    "\n",
    "(res.id, res.name, res.year, res.gender, res.count)"
   ]
  },
  {
   "cell_type": "code",
   "execution_count": 13,
   "metadata": {},
   "outputs": [
    {
     "name": "stdout",
     "output_type": "stream",
     "text": [
      "3 hyunsoo 1990 F 1500\n"
     ]
    }
   ],
   "source": [
    "# 1) SELECT ALL\n",
    "\n",
    "res = session.query(lecture).all()\n",
    "\n",
    "for i in res:\n",
    "    print(i.id, i.name, i.year, i.gender, i.count)"
   ]
  },
  {
   "cell_type": "code",
   "execution_count": 8,
   "metadata": {},
   "outputs": [],
   "source": [
    "# 2) INSERT\n",
    "\n",
    "data1 = lecture(id=3, name='hyunsoo', year=1990, gender='M', count=1234)\n",
    "session.add(data1)\n",
    "session.commit()"
   ]
  },
  {
   "cell_type": "code",
   "execution_count": 10,
   "metadata": {},
   "outputs": [],
   "source": [
    "# 3) UPDATE\n",
    "\n",
    "session.query(lecture).filter(lecture.name == 'hyunsoo').update({'gender':'F', 'count':1500})\n",
    "session.commit()"
   ]
  },
  {
   "cell_type": "code",
   "execution_count": 12,
   "metadata": {},
   "outputs": [],
   "source": [
    "# 4) DELETE\n",
    "\n",
    "session.query(lecture).filter(lecture.id == 2).delete()\n",
    "session.commit()"
   ]
  },
  {
   "cell_type": "markdown",
   "metadata": {},
   "source": [
    "##### 4) OMR Core 방법을 활용한 CRUD - 참고용\n",
    "  > https://velog.io/@newnew_daddy/python-orm"
   ]
  },
  {
   "cell_type": "code",
   "execution_count": null,
   "metadata": {},
   "outputs": [],
   "source": [
    "from sqlalchemy import create_engine, Table, Column, Integer, String, MetaData\n",
    "from sqlalchemy.orm import sessionmaker\n",
    "\n",
    "db = create_engine('postgresql://[USER ID]:[USER PW]@[IP]:[PORT]/[DATABASE]')\n",
    "\n",
    "# 세션 : \n",
    "Session = sessionmaker(db)\n",
    "session = Session()\n",
    "\n",
    "meta = MetaData()\n",
    "\n",
    "# 테이블 스키마에 맞게 Column 생성 후 테이블 선언\n",
    "core_table = Table(\n",
    "    'first', meta,\n",
    "    Column('id', Integer, primary_key=True, autoincrement=True),\n",
    "    Column('name', String),\n",
    "    Column('year', Integer),\n",
    "    Column('gender', String),\n",
    "    Column('count', Integer)\n",
    ")\n",
    "\n",
    "meta.create_all(db)"
   ]
  },
  {
   "cell_type": "code",
   "execution_count": null,
   "metadata": {},
   "outputs": [],
   "source": [
    "from sqlalchemy import insert, update, delete\n",
    "\n",
    "# SELECT ALL\n",
    "res = core_table.select()\n",
    "result = session.execute(res)\n",
    "\n",
    "for row in result:\n",
    "    print(row)\n",
    "    \n",
    "\n",
    "# INSERT 1건\n",
    "stmt = insert(core_table).values(name=\"hahaha\", year=2023, gender=\"M\", count=654)\n",
    "\n",
    "with db.connect() as conn:\n",
    "    result = conn.execute(stmt)\n",
    "    conn.commit()\n",
    "\n",
    "\n",
    "# INSERT 다수\n",
    "stmt = insert(core_table)\n",
    "data_list = [\n",
    "    {\"name\": \"tom\", \"year\": 2023, \"gender\": \"M\", \"count\": 12},\n",
    "    {\"name\": \"ann\", \"year\": 2000, \"gender\": \"F\", \"count\": 32}\n",
    "   ]\n",
    "\n",
    "with db.connect() as conn:\n",
    "    result = conn.execute(stmt, data_list)\n",
    "    conn.commit()\n",
    "    \n",
    "# UPDATE\n",
    "stmt = update(core_table).where(core_table.c.name == 'ann').values(year=1990)\n",
    "\n",
    "with db.connect() as conn:\n",
    "    result = conn.execute(stmt)\n",
    "    conn.commit()\n",
    "    \n",
    "# DELETE\n",
    "stmt = delete(core_table).where(core_table.c.name == 'ann')\n",
    "\n",
    "with db.connect() as conn:\n",
    "    result = conn.execute(stmt)\n",
    "    conn.commit()"
   ]
  },
  {
   "cell_type": "markdown",
   "metadata": {},
   "source": [
    "### 1-3. Python을 활용한 Bulk Insert\n",
    "1. For문을 활용한 Insert\n",
    "2. `to_sql()` 함수를 활용한 Insert\n",
    "3. `execute_values()` 함수를 활용한 Insert"
   ]
  },
  {
   "cell_type": "markdown",
   "metadata": {},
   "source": [
    "##### 1) Pandas for loop"
   ]
  },
  {
   "cell_type": "code",
   "execution_count": 2,
   "metadata": {},
   "outputs": [],
   "source": [
    "import psycopg2\n",
    "\n",
    "# database connection 생성\n",
    "db = psycopg2.connect(host='localhost', dbname='postgres', user='hyunsoo', password='150808', port=5432)\n",
    "\n",
    "# 커서 생성 > 특정 SQL 문장을 처리한 결과를 담고 있는 영역을 가리키는 일종의 포인터 / 쿼리문에 의해서 반환되는 결과값들을 저장하는 메모리공간\n",
    "cursor=db.cursor()"
   ]
  },
  {
   "cell_type": "code",
   "execution_count": 3,
   "metadata": {},
   "outputs": [
    {
     "data": {
      "text/plain": [
       "id           2\n",
       "name      Anna\n",
       "year      1880\n",
       "gender       F\n",
       "count     2604\n",
       "Name: 1, dtype: object"
      ]
     },
     "execution_count": 3,
     "metadata": {},
     "output_type": "execute_result"
    }
   ],
   "source": [
    "import pandas as pd\n",
    "\n",
    "# DATA IMPORT\n",
    "df = pd.read_csv('../dataset/data-01/names.csv')\n",
    "\n",
    "# Index Location\n",
    "# df.loc[1, :]\n",
    "df.iloc[1]"
   ]
  },
  {
   "cell_type": "code",
   "execution_count": null,
   "metadata": {},
   "outputs": [],
   "source": [
    "# BULK INSERT -> tuple 형태로 감싸서 Insert!\n",
    "\n",
    "for data in range(len(df)):\n",
    "    datas = tuple(df.iloc[data])\n",
    "    query = f\"INSERT INTO lecture VALUES{datas};\"\n",
    "    cursor.execute(query)\n",
    "    \n",
    "db.commit()"
   ]
  },
  {
   "cell_type": "code",
   "execution_count": null,
   "metadata": {},
   "outputs": [],
   "source": [
    "# CHECK\n",
    "\n",
    "cursor.execute(\"SELECT * FROM first LIMIT 10\")\n",
    "cursor.fetchall()"
   ]
  },
  {
   "cell_type": "markdown",
   "metadata": {},
   "source": [
    "##### 2) Pandas - [to_sql()](https://pandas.pydata.org/docs/reference/api/pandas.DataFrame.to_sql.html) 메소드\n",
    "- dataframe.to_sql( 테이블 이름, sqlalchemy_connector, 옵션 )"
   ]
  },
  {
   "cell_type": "code",
   "execution_count": 4,
   "metadata": {},
   "outputs": [],
   "source": [
    "from sqlalchemy import create_engine\n",
    "\n",
    "engine = 'postgresql'\n",
    "user = 'hyunsoo'\n",
    "passwd = '910506'\n",
    "host = 'localhost'\n",
    "port = '5432'\n",
    "database = 'postgres'\n",
    "\n",
    "db = create_engine(f'{engine}://{user}:{passwd}@{host}:{port}/{database}')"
   ]
  },
  {
   "cell_type": "code",
   "execution_count": 20,
   "metadata": {},
   "outputs": [],
   "source": [
    "import pandas as pd\n",
    "\n",
    "# DATA IMPORT\n",
    "df = pd.read_csv('../dataset/data-01/names.csv')\n",
    "\n",
    "# 50개만 선택\n",
    "df = df.head(50)"
   ]
  },
  {
   "cell_type": "code",
   "execution_count": null,
   "metadata": {},
   "outputs": [],
   "source": [
    "df.to_sql(name='point', con=db, if_exists='replace')\n",
    "                                # fail : 테이블 존재하면 실패\n",
    "                                # append : 테이블 존재하면 아래에 row 추가\n",
    "                                # replace : 테이블 존재하면 명령 내린 테이블 데이터로 교체"
   ]
  },
  {
   "cell_type": "markdown",
   "metadata": {},
   "source": [
    "##### 3) psycopg2 라이브러리의 [execute_values()](https://www.psycopg.org/docs/extras.html#psycopg2.extras.execute_values) 메소드\n",
    "- 사용 예시 : https://int-i.github.io/python/2022-02-27/python-postgres-psycopg2-bulk-insert/"
   ]
  },
  {
   "cell_type": "code",
   "execution_count": null,
   "metadata": {},
   "outputs": [],
   "source": [
    "import psycopg2\n",
    "\n",
    "# database connection 생성\n",
    "db = psycopg2.connect(\n",
    "    host='localhost',\n",
    "    dbname='postgres',\n",
    "    user='hyunsoo',\n",
    "    password='150808',\n",
    "    port=5432\n",
    "    )\n",
    "\n",
    "# 커서 생성 > 특정 SQL 문장을 처리한 결과를 담고 있는 영역을 가리키는 일종의 포인터 / 쿼리문에 의해서 반환되는 결과값들을 저장하는 메모리공간\n",
    "cursor=db.cursor()"
   ]
  },
  {
   "cell_type": "code",
   "execution_count": 7,
   "metadata": {},
   "outputs": [],
   "source": [
    "import pandas as pd\n",
    "\n",
    "# DATA IMPORT\n",
    "df = pd.read_csv('../dataset/data-01/names.csv')\n",
    "\n",
    "insert_list = list()\n",
    "\n",
    "for i in range(50):\n",
    "    insert_list.append(tuple(df.iloc[i]))\n",
    "    \n",
    "# df.apply(tuple, axis=1)[:50].tolist()"
   ]
  },
  {
   "cell_type": "code",
   "execution_count": null,
   "metadata": {},
   "outputs": [],
   "source": [
    "from psycopg2.extras import execute_values\n",
    "\n",
    "sql = f\"INSERT INTO lecture VALUES %s;\"\n",
    "execute_values(cursor, sql, insert_list)"
   ]
  },
  {
   "cell_type": "markdown",
   "metadata": {},
   "source": [
    "## 2. dotenv 라이브러리를 활용한 민감 정보 관리\n",
    "\n",
    "- 환경 변수에 대한 관리를 효과적이고 안전하게 할 수 있도록 도와주는 python 라이브러리\n",
    "- DB정보, 비밀번호, API KEY 등 외부에 공유되거나 Git에 올라가면 안되는 값들을 하드코딩 하지 않고 사용이 가능.\n",
    "\n",
    "    ```\n",
    "    pip install python-dotenv\n",
    "    ```\n",
    "\n",
    "    > https://velog.io/@newnew_daddy/python-dotenv"
   ]
  },
  {
   "cell_type": "markdown",
   "metadata": {},
   "source": [
    "##### 1) 기본 기능 사용"
   ]
  },
  {
   "cell_type": "code",
   "execution_count": 1,
   "metadata": {},
   "outputs": [
    {
     "name": "stdout",
     "output_type": "stream",
     "text": [
      "c:\\Users\\user\\Desktop\\데엔 기초\\공유용\\day1\\.env\n"
     ]
    },
    {
     "data": {
      "text/plain": [
       "OrderedDict([('POSTGRES_ENGINE', 'postgres'),\n",
       "             ('POSTGRES_HOST', 'localhost'),\n",
       "             ('POSTGRES_DB_1', 'postgres'),\n",
       "             ('POSTGRES_USER', 'learner01'),\n",
       "             ('POSTGRES_PASSWORD', '20231127'),\n",
       "             ('POSTGRES_PORT', '5432')])"
      ]
     },
     "execution_count": 1,
     "metadata": {},
     "output_type": "execute_result"
    }
   ],
   "source": [
    "import dotenv\n",
    "\n",
    "# .env 경로 찾기\n",
    "env_path = dotenv.find_dotenv()\n",
    "print(env_path)\n",
    "# .env 파일 load\n",
    "dotenv.load_dotenv(env_path)\n",
    "\n",
    "# .env 파일 변수값 출력\n",
    "dotenv.dotenv_values(env_path)\n",
    "\n",
    "# .env 파일 변수값 변경\n",
    "# dotenv.set_key(env_path, '변경할 KEY', '변경할 VALUE')"
   ]
  },
  {
   "cell_type": "code",
   "execution_count": 13,
   "metadata": {},
   "outputs": [
    {
     "name": "stdout",
     "output_type": "stream",
     "text": [
      "d:\\KDT_Lecture\\Lecture\\day1\\.env\n"
     ]
    }
   ],
   "source": [
    "engine_name = 'postgresql'\n",
    "user_id = 'learner01'\n",
    "user_pw = '20231127'\n",
    "host = 'localhost'\n",
    "port = '5432'\n",
    "database = 'postgres'"
   ]
  },
  {
   "cell_type": "markdown",
   "metadata": {},
   "source": [
    "##### 2) .env 파일 작성"
   ]
  },
  {
   "cell_type": "code",
   "execution_count": 14,
   "metadata": {},
   "outputs": [],
   "source": [
    "POSTGRES_ENGINE='engine_name'\n",
    "POSTGRES_HOST='localhost'\n",
    "POSTGRES_DB_1='postgres'\n",
    "POSTGRES_USER='learner01'\n",
    "POSTGRES_PASSWORD='20231127'\n",
    "POSTGRES_PORT='5432'"
   ]
  },
  {
   "cell_type": "markdown",
   "metadata": {},
   "source": [
    "##### 3) 값들 Load해오기"
   ]
  },
  {
   "cell_type": "code",
   "execution_count": 8,
   "metadata": {},
   "outputs": [
    {
     "data": {
      "text/plain": [
       "('postgres', 'localhost', 'postgres', 'learner01', '20231127', '5432')"
      ]
     },
     "execution_count": 8,
     "metadata": {},
     "output_type": "execute_result"
    }
   ],
   "source": [
    "import os\n",
    "\n",
    "engine = os.environ.get(\"POSTGRES_ENGINE\")\n",
    "host = os.environ.get(\"POSTGRES_HOST\")\n",
    "database = os.environ.get(\"POSTGRES_DB_1\")\n",
    "user = os.environ.get(\"POSTGRES_USER\")\n",
    "password = os.environ.get(\"POSTGRES_PASSWORD\")\n",
    "port = os.environ.get(\"POSTGRES_PORT\")\n",
    "\n",
    "(engine, host, database, user, password, port)"
   ]
  },
  {
   "cell_type": "markdown",
   "metadata": {},
   "source": [
    "##### 4) DB Connection Test"
   ]
  },
  {
   "cell_type": "code",
   "execution_count": 4,
   "metadata": {},
   "outputs": [],
   "source": [
    "import psycopg2\n",
    "\n",
    "db = psycopg2.connect(\n",
    "    host = host,\n",
    "    dbname = database,\n",
    "    user = user,\n",
    "    password = password,\n",
    "    port = port\n",
    "    )\n",
    "\n",
    "cursor=db.cursor()"
   ]
  },
  {
   "cell_type": "markdown",
   "metadata": {},
   "source": [
    "## 3. Python Class를 사용한 DB 접속 관리"
   ]
  },
  {
   "cell_type": "markdown",
   "metadata": {},
   "source": [
    "##### 0) self에 대한 이해"
   ]
  },
  {
   "cell_type": "code",
   "execution_count": 10,
   "metadata": {},
   "outputs": [
    {
     "data": {
      "text/plain": [
       "'hyunsoo'"
      ]
     },
     "execution_count": 10,
     "metadata": {},
     "output_type": "execute_result"
    }
   ],
   "source": [
    "class TempClass:\n",
    "    def __init__(self, name: str, age: int, count: int):\n",
    "        self.name = name\n",
    "        self.age = age\n",
    "        self.count = count\n",
    "        \n",
    "    def printall(self):\n",
    "        print(self.name)\n",
    "        print(self.age)\n",
    "        print(self.count)\n",
    "        \n",
    "    def printself(self):\n",
    "        return self\n",
    "        \n",
    "a1 = TempClass(\"hyunsoo\",2,3)\n",
    "s1 = a1.printself()\n",
    "\n",
    "s1.name"
   ]
  },
  {
   "cell_type": "code",
   "execution_count": 13,
   "metadata": {},
   "outputs": [
    {
     "data": {
      "text/plain": [
       "2"
      ]
     },
     "execution_count": 13,
     "metadata": {},
     "output_type": "execute_result"
    }
   ],
   "source": [
    "from easydict import EasyDict\n",
    "\n",
    "self = EasyDict(dict())\n",
    "self[\"name\"] = \"hyunsoo\"\n",
    "self[\"age\"] = 2\n",
    "self[\"count\"] = 3\n",
    "\n",
    "s2 = self\n",
    "\n",
    "s2.age"
   ]
  },
  {
   "cell_type": "markdown",
   "metadata": {},
   "source": [
    "##### 1) Class 작성"
   ]
  },
  {
   "cell_type": "code",
   "execution_count": 3,
   "metadata": {},
   "outputs": [],
   "source": [
    "class DBconnector:\n",
    "    def __init__(self, host, database, user, password, port):\n",
    "        self.host = host\n",
    "        self.database = database\n",
    "        self.user = user\n",
    "        self.password = password\n",
    "        self.port = port\n",
    "\n",
    "    def postgres_connect(self):\n",
    "        self.conn = psycopg2.connect(host=self.host,\\\n",
    "                                    dbname=self.database,\\\n",
    "                                    user=self.user, \\\n",
    "                                    password=self.password, \\\n",
    "                                    port=self.port)\n",
    "        \n",
    "        return self\n",
    "    "
   ]
  },
  {
   "cell_type": "code",
   "execution_count": 12,
   "metadata": {},
   "outputs": [
    {
     "data": {
      "text/plain": [
       "('localhost', 'postgres', 'learner01', '20231127', '5432')"
      ]
     },
     "execution_count": 12,
     "metadata": {},
     "output_type": "execute_result"
    }
   ],
   "source": [
    "(host, database, user, password, port)"
   ]
  },
  {
   "cell_type": "code",
   "execution_count": 14,
   "metadata": {},
   "outputs": [],
   "source": [
    "db_object = DBconnector(host, database, user, password, port)\n",
    "db_conn = db_object.postgres_connect().conn\n",
    "\n",
    "cursor=db_conn.cursor()"
   ]
  },
  {
   "cell_type": "code",
   "execution_count": 15,
   "metadata": {},
   "outputs": [
    {
     "data": {
      "text/plain": [
       "[(1, 'Mary', 1880, 'F', 7065),\n",
       " (3, 'Emma', 1880, 'F', 2003),\n",
       " (4, 'Elizabeth', 1880, 'F', 1939),\n",
       " (5, 'Minnie', 1880, 'F', 1746),\n",
       " (6, 'Margaret', 1880, 'F', 1578)]"
      ]
     },
     "execution_count": 15,
     "metadata": {},
     "output_type": "execute_result"
    }
   ],
   "source": [
    "cursor.execute(\"SELECT * FROM lecture LIMIT 5\")\n",
    "cursor.fetchall()"
   ]
  },
  {
   "cell_type": "markdown",
   "metadata": {},
   "source": [
    "##### 2) with문 적용\n",
    "<img src=\"https://velog.velcdn.com/images/newnew_daddy/post/707d46b0-8a0b-4862-ad95-285dc04ddc29/image.png\" width=\"20%\">\n",
    "\n",
    "- Python에서 파일 또는 리소스 관리를 더 효과적으로 처리하기 위한 블록 구조\n",
    "- 리소스를 열고 사용한 후 자동으로 닫아주기 때문에 닫아주는 코드를 작성할 필요가 없습니다. \n",
    "- 주로 파일 입출력, 데이터베이스 연결, 네트워크 연결 등 리소스 관리에 사용됩니다.\n",
    "\n",
    "    ```\n",
    "    with문을 사용할 때는 with 키워드 다음에 리소스를 관리하는 객체를 생성하는 표현식을 사용하며, \n",
    "    이 객체는 __enter__와 __exit__ 메소드를 구현해야 합니다. \n",
    "    with 블록 내에서 리소스를 사용하고 블록을 벗어나면 __exit__ 메소드가 호출되어 리소스를 정리합니다.\n",
    "\n",
    "    -ChatGPT-\n",
    "    ```"
   ]
  },
  {
   "cell_type": "code",
   "execution_count": 4,
   "metadata": {},
   "outputs": [
    {
     "ename": "NameError",
     "evalue": "name 'host' is not defined",
     "output_type": "error",
     "traceback": [
      "\u001b[1;31m---------------------------------------------------------------------------\u001b[0m",
      "\u001b[1;31mNameError\u001b[0m                                 Traceback (most recent call last)",
      "\u001b[1;32m~\\AppData\\Local\\Temp/ipykernel_34664/1631257646.py\u001b[0m in \u001b[0;36m<module>\u001b[1;34m\u001b[0m\n\u001b[1;32m----> 1\u001b[1;33m \u001b[0mdb_object\u001b[0m \u001b[1;33m=\u001b[0m \u001b[0mDBconnector\u001b[0m\u001b[1;33m(\u001b[0m\u001b[0mhost\u001b[0m\u001b[1;33m,\u001b[0m \u001b[0mdb_name\u001b[0m\u001b[1;33m,\u001b[0m \u001b[0muser\u001b[0m\u001b[1;33m,\u001b[0m \u001b[0mpassword\u001b[0m\u001b[1;33m,\u001b[0m \u001b[0mport\u001b[0m\u001b[1;33m)\u001b[0m\u001b[1;33m\u001b[0m\u001b[1;33m\u001b[0m\u001b[0m\n\u001b[0m\u001b[0;32m      2\u001b[0m \u001b[1;33m\u001b[0m\u001b[0m\n\u001b[0;32m      3\u001b[0m \u001b[1;32mwith\u001b[0m \u001b[0mdb_object\u001b[0m \u001b[1;32mas\u001b[0m \u001b[0mconnected\u001b[0m\u001b[1;33m:\u001b[0m\u001b[1;33m\u001b[0m\u001b[1;33m\u001b[0m\u001b[0m\n\u001b[0;32m      4\u001b[0m     \u001b[0mdb_conn\u001b[0m \u001b[1;33m=\u001b[0m \u001b[0mconnected\u001b[0m\u001b[1;33m.\u001b[0m\u001b[0mconn\u001b[0m\u001b[1;33m\u001b[0m\u001b[1;33m\u001b[0m\u001b[0m\n\u001b[0;32m      5\u001b[0m     \u001b[0mcursor\u001b[0m\u001b[1;33m=\u001b[0m\u001b[0mdb_conn\u001b[0m\u001b[1;33m.\u001b[0m\u001b[0mcursor\u001b[0m\u001b[1;33m(\u001b[0m\u001b[1;33m)\u001b[0m\u001b[1;33m\u001b[0m\u001b[1;33m\u001b[0m\u001b[0m\n",
      "\u001b[1;31mNameError\u001b[0m: name 'host' is not defined"
     ]
    }
   ],
   "source": [
    "db_object = DBconnector(host, database, user, password, port)\n",
    "\n",
    "with db_object as connected:\n",
    "    db_conn = connected.conn\n",
    "    cursor=db_conn.cursor()\n",
    "\n",
    "    cursor.execute(\"SELECT * FROM lecture LIMIT 5\")\n",
    "    print(cursor.fetchall())"
   ]
  },
  {
   "cell_type": "markdown",
   "metadata": {},
   "source": [
    "##### 3) enter, exit 적용\n",
    "\n",
    "> https://docs.python.org/ko/3/reference/datamodel.html#object.__enter__"
   ]
  },
  {
   "cell_type": "code",
   "execution_count": 30,
   "metadata": {},
   "outputs": [],
   "source": [
    "class DBconnector:\n",
    "    def __init__(self, host, database, user, password, port):\n",
    "        self.host = host\n",
    "        self.database = database\n",
    "        self.user = user\n",
    "        self.password = password\n",
    "        self.port = port\n",
    "        self.connect = self.postgres_connect()\n",
    "\n",
    "    def __enter__(self):\n",
    "        print(\"접속\")\n",
    "        return self\n",
    "\n",
    "    def __exit__(self, exc_type, exc_value, traceback):\n",
    "        self.conn.close()\n",
    "        print(\"종료\")\n",
    "\n",
    "    def postgres_connect(self):\n",
    "        self.conn = psycopg2.connect(host=self.host,\\\n",
    "                                    dbname=self.database,\\\n",
    "                                    user=self.user, \\\n",
    "                                    password=self.password, \\\n",
    "                                    port=self.port)\n",
    "        \n",
    "        return self\n",
    "    "
   ]
  },
  {
   "cell_type": "code",
   "execution_count": null,
   "metadata": {},
   "outputs": [],
   "source": [
    "db_object = DBconnector(host, database, user, password, port)\n",
    "db_conn = db_object.postgres_connect().conn\n",
    "\n",
    "cursor=db_conn.cursor()"
   ]
  },
  {
   "cell_type": "code",
   "execution_count": 31,
   "metadata": {},
   "outputs": [
    {
     "name": "stdout",
     "output_type": "stream",
     "text": [
      "접속\n",
      "[(1, 'Mary', 1880, 'F', 7065), (3, 'Emma', 1880, 'F', 2003), (4, 'Elizabeth', 1880, 'F', 1939), (5, 'Minnie', 1880, 'F', 1746), (6, 'Margaret', 1880, 'F', 1578)]\n",
      "종료\n"
     ]
    }
   ],
   "source": [
    "db_object = DBconnector(host, database, user, password, port)\n",
    "\n",
    "with db_object as connected:\n",
    "    db_conn = connected.conn\n",
    "    cursor=db_conn.cursor()\n",
    "\n",
    "    cursor.execute(\"SELECT * FROM lecture LIMIT 5\")\n",
    "    print(cursor.fetchall())\n",
    "\n"
   ]
  },
  {
   "cell_type": "markdown",
   "metadata": {},
   "source": [
    "##### 4) connection parameter 합치기"
   ]
  },
  {
   "cell_type": "code",
   "execution_count": 51,
   "metadata": {},
   "outputs": [],
   "source": [
    "class DBconnector:\n",
    "    def __init__(self, host, database, user, password, port):\n",
    "        self.conn_params = dict(\n",
    "            host = host,\n",
    "            dbname = database,\n",
    "            user = user,\n",
    "            password = password,\n",
    "            port=  port\n",
    "        )\n",
    "        self.host = host\n",
    "        self.database = database\n",
    "        self.user = user\n",
    "        self.password = password\n",
    "        self.port = port\n",
    "        # self.connect = self.postgres_connect()\n",
    "\n",
    "    def __enter__(self):\n",
    "        print(\"접속\")\n",
    "        return self\n",
    "\n",
    "    def __exit__(self, exc_type, exc_value, traceback):\n",
    "        self.conn.close()\n",
    "        print(\"종료\")\n",
    "\n",
    "    def postgres_connect(self):\n",
    "        self.conn = psycopg2.connect(host=self.host,\\\n",
    "                                    dbname=self.database,\\\n",
    "                                    user=self.user, \\\n",
    "                                    password=self.password, \\\n",
    "                                    port=self.port)\n",
    "        \n",
    "        return self\n",
    "    "
   ]
  },
  {
   "cell_type": "markdown",
   "metadata": {},
   "source": [
    "##### 5) Asterisk(*)에 대한 이해"
   ]
  },
  {
   "cell_type": "code",
   "execution_count": 53,
   "metadata": {},
   "outputs": [
    {
     "data": {
      "text/plain": [
       "{'host': 1, 'dbname': 2, 'user': 3, 'password': 4, 'port': 5}"
      ]
     },
     "execution_count": 53,
     "metadata": {},
     "output_type": "execute_result"
    }
   ],
   "source": [
    "# 개별 변수\n",
    "\n",
    "test = DBconnector(1,2,3,4,5)\n",
    "\n",
    "test.conn_params"
   ]
  },
  {
   "cell_type": "code",
   "execution_count": 52,
   "metadata": {},
   "outputs": [
    {
     "data": {
      "text/plain": [
       "{'host': 1, 'dbname': 2, 'user': 3, 'password': 4, 'port': 5}"
      ]
     },
     "execution_count": 52,
     "metadata": {},
     "output_type": "execute_result"
    }
   ],
   "source": [
    "# List\n",
    "\n",
    "args = [1,2,3,4,5]\n",
    "\n",
    "list_params = DBconnector(*args)\n",
    "\n",
    "list_params.conn_params"
   ]
  },
  {
   "cell_type": "code",
   "execution_count": 55,
   "metadata": {},
   "outputs": [
    {
     "data": {
      "text/plain": [
       "{'host': 1, 'dbname': 2, 'user': 3, 'password': 4, 'port': 5}"
      ]
     },
     "execution_count": 55,
     "metadata": {},
     "output_type": "execute_result"
    }
   ],
   "source": [
    "# Dictionary\n",
    "\n",
    "kwargs = dict(\n",
    "            host = 1,\n",
    "            database = 2,\n",
    "            user = 3,\n",
    "            password = 4,\n",
    "            port=  5\n",
    "        )\n",
    "\n",
    "dict_params = DBconnector(**kwargs)\n",
    "\n",
    "dict_params.conn_params"
   ]
  },
  {
   "cell_type": "markdown",
   "metadata": {},
   "source": [
    "##### 6) DBconnector에 asterisk 적용"
   ]
  },
  {
   "cell_type": "code",
   "execution_count": 1,
   "metadata": {},
   "outputs": [],
   "source": [
    "class DBconnector:\n",
    "    def __init__(self, host, database, user, password, port):\n",
    "        self.conn_params = dict(\n",
    "            host = host,\n",
    "            dbname = database,\n",
    "            user = user,\n",
    "            password = password,\n",
    "            port=  port\n",
    "        )\n",
    "        self.connect = self.postgres_connect()\n",
    "\n",
    "    def __enter__(self):\n",
    "        print(\"접속\")\n",
    "        return self\n",
    "\n",
    "    def __exit__(self, exc_type, exc_value, traceback):\n",
    "        self.conn.close()\n",
    "        print(\"종료\")\n",
    "\n",
    "    def postgres_connect(self):\n",
    "        self.conn = psycopg2.connect(**self.conn_params)\n",
    "        \n",
    "        return self\n",
    "    "
   ]
  },
  {
   "cell_type": "code",
   "execution_count": 7,
   "metadata": {},
   "outputs": [
    {
     "ename": "NameError",
     "evalue": "name 'host' is not defined",
     "output_type": "error",
     "traceback": [
      "\u001b[1;31m---------------------------------------------------------------------------\u001b[0m",
      "\u001b[1;31mNameError\u001b[0m                                 Traceback (most recent call last)",
      "Cell \u001b[1;32mIn[7], line 1\u001b[0m\n\u001b[1;32m----> 1\u001b[0m db_object \u001b[38;5;241m=\u001b[39m DBconnector(\u001b[43mhost\u001b[49m, database, user, password, port)\n\u001b[0;32m      3\u001b[0m \u001b[38;5;28;01mwith\u001b[39;00m db_object \u001b[38;5;28;01mas\u001b[39;00m connected:\n\u001b[0;32m      4\u001b[0m     db_conn \u001b[38;5;241m=\u001b[39m connected\u001b[38;5;241m.\u001b[39mconn\n",
      "\u001b[1;31mNameError\u001b[0m: name 'host' is not defined"
     ]
    }
   ],
   "source": [
    "db_object = DBconnector(host, database, user, password, port)\n",
    "\n",
    "with db_object as connected:\n",
    "    db_conn = connected.conn\n",
    "    cursor=db_conn.cursor()\n",
    "\n",
    "    cursor.execute(\"SELECT * FROM lecture LIMIT 5\")\n",
    "    print(cursor.fetchall())"
   ]
  },
  {
   "cell_type": "markdown",
   "metadata": {},
   "source": [
    "##### 7) .env 적용한 connection"
   ]
  },
  {
   "cell_type": "code",
   "execution_count": 3,
   "metadata": {},
   "outputs": [],
   "source": [
    "import dotenv, psycopg2\n",
    "\n",
    "env_path = dotenv.find_dotenv()\n",
    "dotenv.load_dotenv(env_path)\n",
    "\n",
    "import os\n",
    "\n",
    "engine = os.environ.get(\"POSTGRES_ENGINE\")\n",
    "host = os.environ.get(\"POSTGRES_HOST\")\n",
    "database = os.environ.get(\"POSTGRES_DB_1\")\n",
    "user = os.environ.get(\"POSTGRES_USER\")\n",
    "password = os.environ.get(\"POSTGRES_PASSWORD\")\n",
    "port = os.environ.get(\"POSTGRES_PORT\")"
   ]
  },
  {
   "cell_type": "code",
   "execution_count": 4,
   "metadata": {},
   "outputs": [
    {
     "data": {
      "text/plain": [
       "{'host': 'localhost',\n",
       " 'database': 'postgres',\n",
       " 'user': 'hyunsoo',\n",
       " 'password': '150808',\n",
       " 'port': '5432'}"
      ]
     },
     "execution_count": 4,
     "metadata": {},
     "output_type": "execute_result"
    }
   ],
   "source": [
    "DB_SETTINGS = {\n",
    "    \"POSTGRES\" : {\n",
    "        # 'engine' : os.environ.get(\"POSTGRES_ENGINE\"),\n",
    "        'host' : os.environ.get(\"POSTGRES_HOST\"),\n",
    "        'database' : os.environ.get(\"POSTGRES_DB_1\"),\n",
    "        'user' : os.environ.get(\"POSTGRES_USER\"),\n",
    "        'password' : os.environ.get(\"POSTGRES_PASSWORD\"),\n",
    "        'port' : os.environ.get(\"POSTGRES_PORT\")\n",
    "    },\n",
    "}\n",
    "\n",
    "DB_SETTINGS['POSTGRES']"
   ]
  },
  {
   "cell_type": "code",
   "execution_count": 4,
   "metadata": {},
   "outputs": [],
   "source": [
    "db_object = DBconnector(**DB_SETTINGS['POSTGRES'])\n",
    "\n",
    "# with db_object as connected:\n",
    "#     db_conn = connected.conn\n",
    "#     cursor=db_conn.cursor()\n",
    "\n",
    "#     cursor.execute(\"SELECT * FROM lecture LIMIT 5\")\n",
    "#     print(cursor.fetchall())"
   ]
  },
  {
   "cell_type": "markdown",
   "metadata": {},
   "source": [
    "##### 8) 다른 이름의 Database 생성 및 접속"
   ]
  },
  {
   "cell_type": "code",
   "execution_count": 5,
   "metadata": {},
   "outputs": [
    {
     "data": {
      "text/plain": [
       "{'host': 'localhost',\n",
       " 'database': 'KDT',\n",
       " 'user': 'hyunsoo',\n",
       " 'password': '150808',\n",
       " 'port': '5432'}"
      ]
     },
     "execution_count": 5,
     "metadata": {},
     "output_type": "execute_result"
    }
   ],
   "source": [
    "DB_SETTINGS = {\n",
    "    \"POSTGRES\" : {\n",
    "        'host' : os.environ.get(\"POSTGRES_HOST\"),\n",
    "        'database' : os.environ.get(\"POSTGRES_DB_1\"),\n",
    "        'user' : os.environ.get(\"POSTGRES_USER\"),\n",
    "        'password' : os.environ.get(\"POSTGRES_PASSWORD\"),\n",
    "        'port' : os.environ.get(\"POSTGRES_PORT\")\n",
    "    },\n",
    "    \"KDT\" : {\n",
    "        'host' : os.environ.get(\"POSTGRES_HOST\"),\n",
    "        'database' : os.environ.get(\"POSTGRES_DB_2\"),\n",
    "        'user' : os.environ.get(\"POSTGRES_USER\"),\n",
    "        'password' : os.environ.get(\"POSTGRES_PASSWORD\"),\n",
    "        'port' : os.environ.get(\"POSTGRES_PORT\")\n",
    "    }\n",
    "}\n",
    "\n",
    "DB_SETTINGS['KDT']"
   ]
  },
  {
   "cell_type": "code",
   "execution_count": 13,
   "metadata": {},
   "outputs": [
    {
     "name": "stdout",
     "output_type": "stream",
     "text": [
      "접속\n",
      "[('pg_statistic',), ('pg_type',), ('item_his',), ('pg_foreign_table',), ('pg_authid',), ('pg_shadow',), ('pg_roles',), ('pg_statistic_ext_data',), ('pg_hba_file_rules',), ('pg_settings',), ('pg_file_settings',), ('pg_backend_memory_contexts',), ('pg_ident_file_mappings',), ('pg_config',), ('pg_shmem_allocations',), ('pg_tables',), ('pg_user_mapping',), ('pg_replication_origin_status',), ('pg_subscription',), ('pg_attribute',), ('pg_proc',), ('pg_class',), ('pg_attrdef',), ('pg_constraint',), ('pg_inherits',), ('pg_index',), ('pg_operator',), ('pg_statio_all_sequences',), ('pg_opfamily',), ('pg_opclass',), ('pg_am',), ('pg_amop',), ('pg_amproc',), ('pg_language',), ('pg_largeobject_metadata',), ('pg_aggregate',), ('pg_statistic_ext',), ('pg_rewrite',), ('pg_trigger',), ('pg_event_trigger',), ('pg_description',), ('pg_cast',), ('pg_enum',), ('pg_namespace',), ('pg_conversion',), ('pg_depend',), ('pg_database',), ('pg_db_role_setting',), ('pg_tablespace',), ('pg_auth_members',), ('pg_shdepend',), ('pg_shdescription',), ('pg_ts_config',), ('pg_ts_config_map',), ('pg_ts_dict',), ('pg_ts_parser',), ('pg_ts_template',), ('pg_extension',), ('pg_foreign_data_wrapper',), ('pg_foreign_server',), ('pg_policy',), ('pg_replication_origin',), ('pg_default_acl',), ('pg_init_privs',), ('pg_seclabel',), ('pg_shseclabel',), ('pg_collation',), ('pg_parameter_acl',), ('pg_partitioned_table',), ('pg_range',), ('pg_transform',), ('pg_sequence',), ('pg_publication',), ('pg_publication_namespace',), ('pg_publication_rel',), ('pg_subscription_rel',), ('pg_group',), ('pg_user',), ('pg_policies',), ('pg_rules',), ('pg_views',), ('pg_matviews',), ('pg_indexes',), ('pg_sequences',), ('pg_stats',), ('pg_stats_ext',), ('pg_stats_ext_exprs',), ('pg_publication_tables',), ('pg_locks',), ('pg_cursors',), ('pg_available_extensions',), ('pg_available_extension_versions',), ('pg_prepared_xacts',), ('pg_prepared_statements',), ('pg_seclabels',), ('pg_timezone_abbrevs',), ('pg_timezone_names',), ('pg_stat_all_tables',), ('pg_stat_xact_all_tables',), ('pg_stat_xact_user_tables',), ('pg_stat_sys_tables',), ('pg_stat_xact_sys_tables',), ('pg_stat_user_tables',), ('pg_statio_all_tables',), ('pg_statio_sys_tables',), ('pg_statio_user_tables',), ('pg_stat_all_indexes',), ('pg_stat_sys_indexes',), ('pg_stat_user_indexes',), ('pg_statio_all_indexes',), ('pg_statio_sys_indexes',), ('pg_statio_user_indexes',), ('pg_statio_sys_sequences',), ('pg_statio_user_sequences',), ('pg_stat_activity',), ('pg_stat_replication',), ('pg_stat_slru',), ('pg_stat_wal_receiver',), ('pg_stat_recovery_prefetch',), ('pg_stat_subscription',), ('pg_stat_ssl',), ('pg_stat_gssapi',), ('pg_replication_slots',), ('pg_stat_replication_slots',), ('pg_stat_database',), ('pg_stat_database_conflicts',), ('pg_stat_user_functions',), ('pg_stat_xact_user_functions',), ('pg_stat_archiver',), ('pg_stat_bgwriter',), ('pg_stat_io',), ('pg_stat_wal',), ('pg_stat_progress_analyze',), ('pg_stat_progress_vacuum',), ('pg_stat_progress_cluster',), ('pg_stat_progress_create_index',), ('pg_stat_progress_basebackup',), ('pg_stat_progress_copy',), ('pg_user_mappings',), ('pg_stat_subscription_stats',), ('pg_largeobject',), ('collations',), ('information_schema_catalog_name',), ('applicable_roles',), ('domain_constraints',), ('administrable_role_authorizations',), ('collation_character_set_applicability',), ('attributes',), ('character_sets',), ('column_udt_usage',), ('check_constraint_routine_usage',), ('column_column_usage',), ('check_constraints',), ('constraint_table_usage',), ('column_domain_usage',), ('columns',), ('column_privileges',), ('constraint_column_usage',), ('domain_udt_usage',), ('domains',), ('enabled_roles',), ('key_column_usage',), ('parameters',), ('table_privileges',), ('referential_constraints',), ('sql_features',), ('role_column_grants',), ('routine_column_usage',), ('routine_privileges',), ('role_routine_grants',), ('routine_routine_usage',), ('sql_implementation_info',), ('routine_sequence_usage',), ('routine_table_usage',), ('routines',), ('schemata',), ('sql_parts',), ('sequences',), ('transforms',), ('sql_sizing',), ('role_table_grants',), ('table_constraints',), ('triggers',), ('tables',), ('triggered_update_columns',), ('udt_privileges',), ('role_udt_grants',), ('usage_privileges',), ('role_usage_grants',), ('user_defined_types',), ('view_column_usage',), ('foreign_servers',), ('view_routine_usage',), ('view_table_usage',), ('_pg_foreign_tables',), ('views',), ('data_type_privileges',), ('element_types',), ('_pg_foreign_table_columns',), ('foreign_table_options',), ('column_options',), ('_pg_foreign_data_wrappers',), ('foreign_data_wrapper_options',), ('foreign_data_wrappers',), ('_pg_foreign_servers',), ('foreign_tables',), ('foreign_server_options',), ('_pg_user_mappings',), ('user_mapping_options',), ('user_mappings',)]\n",
      "종료\n"
     ]
    }
   ],
   "source": [
    "db_object = DBconnector(**DB_SETTINGS['KDT'])\n",
    "\n",
    "with db_object as connected:\n",
    "    db_conn = connected.conn\n",
    "    cursor=db_conn.cursor()\n",
    "\n",
    "    cursor.execute(\"SELECT table_name FROM INFORMATION_SCHEMA.TABLES\")\n",
    "    print(cursor.fetchall())"
   ]
  }
 ],
 "metadata": {
  "kernelspec": {
   "display_name": "Python 3.9.7 ('base')",
   "language": "python",
   "name": "python3"
  },
  "language_info": {
   "codemirror_mode": {
    "name": "ipython",
    "version": 3
   },
   "file_extension": ".py",
   "mimetype": "text/x-python",
   "name": "python",
   "nbconvert_exporter": "python",
   "pygments_lexer": "ipython3",
   "version": "3.9.7"
  },
  "orig_nbformat": 4,
  "vscode": {
   "interpreter": {
    "hash": "6f5583cf1d9466b5c27e75c89cc6b383bed5736d6b16c51c8074d8690011a952"
   }
  }
 },
 "nbformat": 4,
 "nbformat_minor": 2
}

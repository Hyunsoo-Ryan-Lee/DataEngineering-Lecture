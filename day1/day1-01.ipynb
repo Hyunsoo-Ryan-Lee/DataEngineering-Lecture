{
 "cells": [
  {
   "cell_type": "markdown",
   "metadata": {},
   "source": [
    "## 1. Python을 통한 DB Connection"
   ]
  },
  {
   "cell_type": "markdown",
   "metadata": {},
   "source": [
    "### 1-1 Postgresql 라이브러리(psycopg2)를 활용한 Connection"
   ]
  },
  {
   "cell_type": "markdown",
   "metadata": {},
   "source": [
    "##### 1) Connection"
   ]
  },
  {
   "cell_type": "code",
   "execution_count": null,
   "metadata": {},
   "outputs": [],
   "source": [
    "import psycopg2\n",
    "\n",
    "# database connection 생성\n",
    "db = psycopg2.connect(\n",
    "    host='localhost',\n",
    "    dbname='postgres',\n",
    "    user='hyunsoo',\n",
    "    password='150808',\n",
    "    port=5432\n",
    "    )\n",
    "\n",
    "# 커서 생성 > 특정 SQL 문장을 처리한 결과를 담고 있는 영역을 가리키는 일종의 포인터 / 쿼리문에 의해서 반환되는 결과값들을 저장하는 메모리공간\n",
    "cursor=db.cursor()"
   ]
  },
  {
   "cell_type": "markdown",
   "metadata": {},
   "source": [
    "##### 2) CRUD Execution"
   ]
  },
  {
   "cell_type": "code",
   "execution_count": null,
   "metadata": {},
   "outputs": [],
   "source": [
    "create_query = \"CREATE TABLE lecture (id SERIAL PRIMARY KEY, name VARCHAR(32), year INT, gender VARCHAR(10), count INT);\"\n",
    "\n",
    "insert_query = \"INSERT INTO lecture VALUES(1, 'Tom', 2023, 'M', 1100);\"\n",
    "\n",
    "update_query = \"\"\"\n",
    "            UPDATE lecture \n",
    "            SET id = 1,\n",
    "                name = 'HYUNSOO',\n",
    "                year = '1991',\n",
    "                gender = 'M',\n",
    "                count = '1000'\n",
    "            WHERE id = 1;\n",
    "            \"\"\"\n",
    "delete_query = \"DELETE FROM lecture WHERE id = 1;\"\n",
    "\n",
    "drop_query = \"DROP TABLE lecture\""
   ]
  },
  {
   "cell_type": "code",
   "execution_count": null,
   "metadata": {},
   "outputs": [],
   "source": [
    "# CREATE TABLE\n",
    "\n",
    "cursor.execute(create_query)\n",
    "db.commit()"
   ]
  },
  {
   "cell_type": "code",
   "execution_count": null,
   "metadata": {},
   "outputs": [],
   "source": [
    "# INSERT ROW\n",
    "\n",
    "cursor.execute(insert_query)\n",
    "db.commit()\n",
    "\n",
    "cursor.execute(\"SELECT * FROM lecture\")\n",
    "cursor.fetchall()"
   ]
  },
  {
   "cell_type": "code",
   "execution_count": null,
   "metadata": {},
   "outputs": [],
   "source": [
    "# UPDATE ROW\n",
    "\n",
    "cursor.execute(update_query)\n",
    "db.commit()\n",
    "\n",
    "cursor.execute(\"SELECT * FROM lecture\")\n",
    "cursor.fetchall()"
   ]
  },
  {
   "cell_type": "code",
   "execution_count": null,
   "metadata": {},
   "outputs": [],
   "source": [
    "# DELETE ROW\n",
    "\n",
    "cursor.execute(delete_query)\n",
    "db.commit()\n",
    "\n",
    "cursor.execute(\"SELECT * FROM lecture\")\n",
    "cursor.fetchall()"
   ]
  },
  {
   "cell_type": "code",
   "execution_count": null,
   "metadata": {},
   "outputs": [],
   "source": [
    "# DROP TABLE\n",
    "\n",
    "cursor.execute(drop_query)\n",
    "db.commit()"
   ]
  },
  {
   "cell_type": "markdown",
   "metadata": {},
   "source": [
    "#### 3) Connection Pool\n",
    "\n",
    "<img src=\"https://velog.velcdn.com/images/newnew_daddy/post/f0569aa7-1aad-466e-a24f-5e3b5f248a72/image.png\" width=\"30%\">\n",
    "\n",
    "- 일정량의 Connection 객체를 미리 만들어서 pool에 저장\n",
    "- 클라이언트 요청이 오면 Connection 객체를 빌려주고 해당 객체의 임무가 완료되면 다시 Connection 객체를 반납 받아 pool에 저장\n",
    "- 큰 커넥션 풀은 메모리 소모가 큰 대신 대기 시간이 적어지고, 작은 커넥션 풀은 메모리 소모가 작은 대신 대기 시간이 길어진다. ([적정 Connection 수 공식](https://github.com/brettwooldridge/HikariCP/wiki/About-Pool-Sizing#the-formula))\n",
    "- 자원을 사용하면 반드시 반납을 해줘야하는데 이를 위해 DB 연결시 파이썬 `with문`을 사용"
   ]
  },
  {
   "cell_type": "code",
   "execution_count": null,
   "metadata": {},
   "outputs": [],
   "source": [
    "## Connection 종료\n",
    "\n",
    "cursor.close()"
   ]
  },
  {
   "cell_type": "markdown",
   "metadata": {},
   "source": [
    "### 1-2. ORM 라이브러리(sqlalchemy)를 활용한 Connection\n",
    "\n",
    "#### ORM(Object Relational Mapping) 이란?\n",
    "\n",
    "<img src=\"https://velog.velcdn.com/images/newnew_daddy/post/ca5652a2-0686-462b-bed4-4483815708e5/image.png\" width=\"40%\">\n",
    "\n",
    "- Python 객체와 관계형 DB의 data를 매핑해주는 것\n",
    "- 장점\n",
    "    - Query가 아닌 코드로 데이터를 조작할 수 있어 개발자가 프로그래밍에 더 집중할 수 있도록 도와준다.\n",
    "    - 재사용 및 유지보수의 편리성이 증가한다.\n",
    "    - DBMS에 대한 종속성이 줄어든다.\n",
    "\n",
    "- 단점\n",
    "  - 완벽한 ORM으로만 서비스를 구현하기 어렵다.\n",
    "  - 프로시저가 많은 시스템에선 ORM의 객체 지향적인 장점을 활용하기 어렵다."
   ]
  },
  {
   "cell_type": "markdown",
   "metadata": {},
   "source": [
    "##### 1) Connection 및 Session"
   ]
  },
  {
   "cell_type": "code",
   "execution_count": null,
   "metadata": {},
   "outputs": [],
   "source": [
    "from sqlalchemy import create_engine, text\n",
    "from sqlalchemy.orm import sessionmaker\n",
    "\n",
    "engine_name = 'postgresql'\n",
    "user_id = 'hyunsoo'\n",
    "user_pw = '150808'\n",
    "host = 'localhost'\n",
    "port = '5432'\n",
    "database = 'postgres'\n",
    "\n",
    "db = create_engine(f'{engine_name}://{user_id}:{user_pw}@{host}:{port}/{database}')\n",
    "\n",
    "cursor = db.connect()\n",
    "Session = sessionmaker(db)\n",
    "session = Session()\n"
   ]
  },
  {
   "cell_type": "code",
   "execution_count": null,
   "metadata": {},
   "outputs": [],
   "source": [
    "insert_query = \"INSERT INTO lecture VALUES(3, 'Mom', 2023, 'M', 1100);\"\n",
    "\n",
    "cursor.execute(text(insert_query))\n",
    "cursor.commit()"
   ]
  },
  {
   "cell_type": "code",
   "execution_count": null,
   "metadata": {},
   "outputs": [],
   "source": [
    "cursor.execute(text(\"SELECT * FROM lecture\"))"
   ]
  },
  {
   "cell_type": "code",
   "execution_count": null,
   "metadata": {},
   "outputs": [],
   "source": [
    "cursor.close()"
   ]
  },
  {
   "cell_type": "code",
   "execution_count": null,
   "metadata": {},
   "outputs": [],
   "source": [
    "import pandas as pd\n",
    "\n",
    "pd.read_sql(\"select * from lecture\", db)"
   ]
  },
  {
   "cell_type": "markdown",
   "metadata": {},
   "source": [
    "##### 2) 매핑 테이블 생성"
   ]
  },
  {
   "cell_type": "code",
   "execution_count": null,
   "metadata": {},
   "outputs": [],
   "source": [
    "from sqlalchemy import Column, INTEGER, VARCHAR\n",
    "from sqlalchemy.orm import declarative_base\n",
    "\n",
    "Base = declarative_base()\n",
    "\n",
    "class lecture(Base):\n",
    "    __tablename__ = 'lecture'\n",
    "    \n",
    "    id = Column('id', INTEGER, primary_key=True, autoincrement=True)\n",
    "    name = Column('name', VARCHAR(10), nullable=False)\n",
    "    year = Column('year', INTEGER, nullable=False)\n",
    "    gender = Column('gender', VARCHAR(10), nullable=False)\n",
    "    count = Column('count', INTEGER, nullable=False)\n",
    "\n",
    "# Create\n",
    "Base.metadata.create_all(db)\n",
    "\n",
    "# Drop\n",
    "# Sample.__table__.drop(db)"
   ]
  },
  {
   "cell_type": "markdown",
   "metadata": {},
   "source": [
    "##### 3) ORM을 활용한 CRUD"
   ]
  },
  {
   "cell_type": "code",
   "execution_count": null,
   "metadata": {},
   "outputs": [],
   "source": [
    "# 1) SELECT ONE\n",
    "\n",
    "res = session.query(lecture).first()\n",
    "\n",
    "(res.id, res.name, res.year, res.gender, res.count)"
   ]
  },
  {
   "cell_type": "code",
   "execution_count": null,
   "metadata": {},
   "outputs": [],
   "source": [
    "# 1) SELECT ALL\n",
    "\n",
    "res = session.query(lecture).all()\n",
    "\n",
    "for i in res:\n",
    "    print(i.id, i.name, i.year, i.gender, i.count)"
   ]
  },
  {
   "cell_type": "code",
   "execution_count": null,
   "metadata": {},
   "outputs": [],
   "source": [
    "# 2) INSERT\n",
    "\n",
    "data1 = lecture(id=3, name='hyunsoo', year=1990, gender='M', count=1234)\n",
    "session.add(data1)\n",
    "session.commit()"
   ]
  },
  {
   "cell_type": "code",
   "execution_count": null,
   "metadata": {},
   "outputs": [],
   "source": [
    "# 3) UPDATE\n",
    "\n",
    "session.query(lecture).filter(lecture.name == 'hyunsoo').update({'gender':'F', 'count':1500})\n",
    "session.commit()"
   ]
  },
  {
   "cell_type": "code",
   "execution_count": null,
   "metadata": {},
   "outputs": [],
   "source": [
    "# 4) DELETE\n",
    "\n",
    "session.query(lecture).filter(lecture.id == 2).delete()\n",
    "session.commit()"
   ]
  },
  {
   "cell_type": "markdown",
   "metadata": {},
   "source": [
    "##### 4) OMR Core 방법을 활용한 CRUD - 참고용\n",
    "  > https://velog.io/@newnew_daddy/python-orm"
   ]
  },
  {
   "cell_type": "code",
   "execution_count": null,
   "metadata": {},
   "outputs": [],
   "source": [
    "from sqlalchemy import create_engine, Table, Column, Integer, String, MetaData\n",
    "from sqlalchemy.orm import sessionmaker\n",
    "\n",
    "db = create_engine('postgresql://[USER ID]:[USER PW]@[IP]:[PORT]/[DATABASE]')\n",
    "\n",
    "# 세션 : \n",
    "Session = sessionmaker(db)\n",
    "session = Session()\n",
    "\n",
    "meta = MetaData()\n",
    "\n",
    "# 테이블 스키마에 맞게 Column 생성 후 테이블 선언\n",
    "core_table = Table(\n",
    "    'first', meta,\n",
    "    Column('id', Integer, primary_key=True, autoincrement=True),\n",
    "    Column('name', String),\n",
    "    Column('year', Integer),\n",
    "    Column('gender', String),\n",
    "    Column('count', Integer)\n",
    ")\n",
    "\n",
    "meta.create_all(db)"
   ]
  },
  {
   "cell_type": "code",
   "execution_count": null,
   "metadata": {},
   "outputs": [],
   "source": [
    "from sqlalchemy import insert, update, delete\n",
    "\n",
    "# SELECT ALL\n",
    "res = core_table.select()\n",
    "result = session.execute(res)\n",
    "\n",
    "for row in result:\n",
    "    print(row)\n",
    "    \n",
    "\n",
    "# INSERT 1건\n",
    "stmt = insert(core_table).values(name=\"hahaha\", year=2023, gender=\"M\", count=654)\n",
    "\n",
    "with db.connect() as conn:\n",
    "    result = conn.execute(stmt)\n",
    "    conn.commit()\n",
    "\n",
    "\n",
    "# INSERT 다수\n",
    "stmt = insert(core_table)\n",
    "data_list = [\n",
    "    {\"name\": \"tom\", \"year\": 2023, \"gender\": \"M\", \"count\": 12},\n",
    "    {\"name\": \"ann\", \"year\": 2000, \"gender\": \"F\", \"count\": 32}\n",
    "   ]\n",
    "\n",
    "with db.connect() as conn:\n",
    "    result = conn.execute(stmt, data_list)\n",
    "    conn.commit()\n",
    "    \n",
    "# UPDATE\n",
    "stmt = update(core_table).where(core_table.c.name == 'ann').values(year=1990)\n",
    "\n",
    "with db.connect() as conn:\n",
    "    result = conn.execute(stmt)\n",
    "    conn.commit()\n",
    "    \n",
    "# DELETE\n",
    "stmt = delete(core_table).where(core_table.c.name == 'ann')\n",
    "\n",
    "with db.connect() as conn:\n",
    "    result = conn.execute(stmt)\n",
    "    conn.commit()"
   ]
  },
  {
   "cell_type": "markdown",
   "metadata": {},
   "source": [
    "### 1-3. Python을 활용한 Bulk Insert\n",
    "1. For문을 활용한 Insert\n",
    "2. `to_sql()` 함수를 활용한 Insert\n",
    "3. `execute_values()` 함수를 활용한 Insert\n",
    "\n",
    "> https://velog.io/@newnew_daddy/PYTHON05"
   ]
  },
  {
   "cell_type": "markdown",
   "metadata": {},
   "source": [
    "##### 1) Pandas for loop"
   ]
  },
  {
   "cell_type": "code",
   "execution_count": null,
   "metadata": {},
   "outputs": [],
   "source": [
    "import psycopg2\n",
    "\n",
    "# database connection 생성\n",
    "db = psycopg2.connect(\n",
    "    host='localhost',\n",
    "    dbname='postgres',\n",
    "    user='hyunsoo',\n",
    "    password='150808',\n",
    "    port=5432\n",
    "    )\n",
    "\n",
    "# 커서 생성 > 특정 SQL 문장을 처리한 결과를 담고 있는 영역을 가리키는 일종의 포인터 / 쿼리문에 의해서 반환되는 결과값들을 저장하는 메모리공간\n",
    "cursor=db.cursor()"
   ]
  },
  {
   "cell_type": "code",
   "execution_count": null,
   "metadata": {},
   "outputs": [],
   "source": [
    "import pandas as pd\n",
    "\n",
    "# DATA IMPORT\n",
    "df = pd.read_csv('../dataset/data-01/names.csv')\n",
    "\n",
    "# Index Location\n",
    "# df.loc[1, :]\n",
    "df.iloc[1]"
   ]
  },
  {
   "cell_type": "code",
   "execution_count": null,
   "metadata": {},
   "outputs": [],
   "source": [
    "# BULK INSERT -> tuple 형태로 감싸서 Insert!\n",
    "\n",
    "for data in range(len(df)):\n",
    "    datas = tuple(df.iloc[data])\n",
    "    query = f\"INSERT INTO lecture VALUES{datas};\"\n",
    "    cursor.execute(query)\n",
    "    \n",
    "db.commit()"
   ]
  },
  {
   "cell_type": "code",
   "execution_count": null,
   "metadata": {},
   "outputs": [],
   "source": [
    "# CHECK\n",
    "\n",
    "cursor.execute(\"SELECT * FROM first LIMIT 10\")\n",
    "cursor.fetchall()"
   ]
  },
  {
   "cell_type": "markdown",
   "metadata": {},
   "source": [
    "##### 2) Pandas - [to_sql()](https://pandas.pydata.org/docs/reference/api/pandas.DataFrame.to_sql.html) 메소드\n",
    "- dataframe.to_sql( 테이블 이름, sqlalchemy_connector, 옵션 )"
   ]
  },
  {
   "cell_type": "code",
   "execution_count": null,
   "metadata": {},
   "outputs": [],
   "source": [
    "from sqlalchemy import create_engine\n",
    "\n",
    "engine = 'postgresql'\n",
    "user = 'hyunsoo'\n",
    "passwd = '910506'\n",
    "host = 'localhost'\n",
    "port = '5432'\n",
    "database = 'postgres'\n",
    "\n",
    "db = create_engine(f'{engine}://{user}:{passwd}@{host}:{port}/{database}')"
   ]
  },
  {
   "cell_type": "code",
   "execution_count": null,
   "metadata": {},
   "outputs": [],
   "source": [
    "import pandas as pd\n",
    "\n",
    "# DATA IMPORT\n",
    "df = pd.read_csv('../dataset/data-01/names.csv')\n",
    "df.head()\n",
    "# 50개만 선택\n",
    "df = df.head(50)"
   ]
  },
  {
   "cell_type": "code",
   "execution_count": null,
   "metadata": {},
   "outputs": [],
   "source": [
    "df.dtypes"
   ]
  },
  {
   "cell_type": "code",
   "execution_count": null,
   "metadata": {},
   "outputs": [],
   "source": [
    "# BULK INSERT\n",
    "df.to_sql(name=\"lecture\", con=db, if_exists=\"replace\")"
   ]
  },
  {
   "cell_type": "markdown",
   "metadata": {},
   "source": [
    "##### 3) psycopg2 라이브러리의 [execute_values()](https://www.psycopg.org/docs/extras.html#psycopg2.extras.execute_values) 메소드\n",
    "- 사용 예시 : https://int-i.github.io/python/2022-02-27/python-postgres-psycopg2-bulk-insert/"
   ]
  },
  {
   "cell_type": "code",
   "execution_count": null,
   "metadata": {},
   "outputs": [],
   "source": [
    "import psycopg2\n",
    "\n",
    "# database connection 생성\n",
    "db = psycopg2.connect(\n",
    "    host='localhost',\n",
    "    dbname='postgres',\n",
    "    user='hyunsoo',\n",
    "    password='150808',\n",
    "    port=5432\n",
    "    )\n",
    "\n",
    "# 커서 생성 > 특정 SQL 문장을 처리한 결과를 담고 있는 영역을 가리키는 일종의 포인터 / 쿼리문에 의해서 반환되는 결과값들을 저장하는 메모리공간\n",
    "cursor=db.cursor()"
   ]
  },
  {
   "cell_type": "code",
   "execution_count": null,
   "metadata": {},
   "outputs": [],
   "source": [
    "import pandas as pd\n",
    "\n",
    "# DATA IMPORT\n",
    "df = pd.read_csv('../dataset/data-01/names.csv')\n",
    "df['id'] = df['id'].astype(float)\n",
    "df['year'] = df['year'].astype(float)\n",
    "df['count'] = df['count'].astype(float)\n",
    "\n",
    "# 상위 50개 row만 tuple 형태로 List에 삽입\n",
    "insert_list = list()\n",
    "\n",
    "for i in range(5,50):\n",
    "    insert_list.append(tuple(df.iloc[i]))\n",
    "    \n",
    "# df.apply(tuple, axis=1)[:50].tolist()"
   ]
  },
  {
   "cell_type": "code",
   "execution_count": null,
   "metadata": {},
   "outputs": [],
   "source": [
    "df.dtypes"
   ]
  },
  {
   "cell_type": "code",
   "execution_count": null,
   "metadata": {},
   "outputs": [],
   "source": [
    "import numpy as np\n",
    "from psycopg2.extensions import register_adapter, AsIs\n",
    "register_adapter(np.int64, AsIs)"
   ]
  },
  {
   "cell_type": "code",
   "execution_count": null,
   "metadata": {},
   "outputs": [],
   "source": [
    "from psycopg2.extras import execute_values\n",
    "\n",
    "sql = f\"INSERT INTO lecture VALUES %s;\"\n",
    "execute_values(cursor, sql, insert_list)\n",
    "\n",
    "db.commit()"
   ]
  },
  {
   "cell_type": "markdown",
   "metadata": {},
   "source": [
    "## 2. dotenv 라이브러리를 활용한 민감 정보 관리\n",
    "\n",
    "- 환경 변수에 대한 관리를 효과적이고 안전하게 할 수 있도록 도와주는 python 라이브러리\n",
    "- DB정보, 비밀번호, API KEY 등 외부에 공유되거나 Git에 올라가면 안되는 값들을 하드코딩 하지 않고 사용이 가능.\n",
    "\n",
    "    ```\n",
    "    pip install python-dotenv\n",
    "    ```\n",
    "\n",
    "    > https://velog.io/@newnew_daddy/python-dotenv"
   ]
  },
  {
   "cell_type": "markdown",
   "metadata": {},
   "source": [
    "##### 1) 기본 기능 사용"
   ]
  },
  {
   "cell_type": "code",
   "execution_count": null,
   "metadata": {},
   "outputs": [],
   "source": [
    "import dotenv\n",
    "\n",
    "# .env 경로 찾기\n",
    "env_path = dotenv.find_dotenv()\n",
    "print(env_path)\n",
    "# .env 파일 load\n",
    "dotenv.load_dotenv(env_path)\n",
    "\n",
    "# .env 파일 변수값 출력\n",
    "dotenv.dotenv_values(env_path)\n",
    "\n",
    "# .env 파일 변수값 변경\n",
    "# dotenv.set_key(env_path, '변경할 KEY', '변경할 VALUE')"
   ]
  },
  {
   "cell_type": "code",
   "execution_count": null,
   "metadata": {},
   "outputs": [],
   "source": [
    "engine_name = 'postgresql'\n",
    "user_id = 'learner01'\n",
    "user_pw = '20231127'\n",
    "host = 'localhost'\n",
    "port = '5432'\n",
    "database = 'postgres'"
   ]
  },
  {
   "cell_type": "markdown",
   "metadata": {},
   "source": [
    "##### 2) .env 파일 작성"
   ]
  },
  {
   "cell_type": "code",
   "execution_count": null,
   "metadata": {},
   "outputs": [],
   "source": [
    "POSTGRES_ENGINE='engine_name'\n",
    "POSTGRES_HOST='localhost'\n",
    "POSTGRES_DB_1='postgres'\n",
    "POSTGRES_USER='learner01'\n",
    "POSTGRES_PASSWORD='20231127'\n",
    "POSTGRES_PORT='5432'"
   ]
  },
  {
   "cell_type": "markdown",
   "metadata": {},
   "source": [
    "##### 3) 값들 Load해오기"
   ]
  },
  {
   "cell_type": "code",
   "execution_count": null,
   "metadata": {},
   "outputs": [],
   "source": [
    "import os\n",
    "\n",
    "engine = os.environ.get(\"POSTGRES_ENGINE\")\n",
    "host = os.environ.get(\"POSTGRES_HOST\")\n",
    "database = os.environ.get(\"POSTGRES_DB_1\")\n",
    "user = os.environ.get(\"POSTGRES_USER\")\n",
    "password = os.environ.get(\"POSTGRES_PASSWORD\")\n",
    "port = os.environ.get(\"POSTGRES_PORT\")\n",
    "\n",
    "(engine, host, database, user, password, port)"
   ]
  },
  {
   "cell_type": "markdown",
   "metadata": {},
   "source": [
    "##### 4) DB Connection Test"
   ]
  },
  {
   "cell_type": "code",
   "execution_count": null,
   "metadata": {},
   "outputs": [],
   "source": [
    "import psycopg2\n",
    "\n",
    "db = psycopg2.connect(\n",
    "    host = host,\n",
    "    dbname = database,\n",
    "    user = user,\n",
    "    password = password,\n",
    "    port = port\n",
    "    )\n",
    "\n",
    "cursor=db.cursor()"
   ]
  },
  {
   "cell_type": "markdown",
   "metadata": {},
   "source": [
    "## 3. Python Class를 사용한 DB 접속 관리"
   ]
  },
  {
   "cell_type": "markdown",
   "metadata": {},
   "source": [
    "##### 0) self에 대한 이해"
   ]
  },
  {
   "cell_type": "code",
   "execution_count": null,
   "metadata": {},
   "outputs": [],
   "source": [
    "class TempClass:\n",
    "    def __init__(self, name: str, age: int, count: int):\n",
    "        self.name = name\n",
    "        self.age = age\n",
    "        self.count = count\n",
    "        self.addage()\n",
    "        \n",
    "    def printall(self):\n",
    "        print(self.name)\n",
    "        print(self.age)\n",
    "        print(self.count)\n",
    "        \n",
    "    def printself(self):\n",
    "        return self\n",
    "    \n",
    "    def addage(self):\n",
    "        self.new_age = self.age+10\n",
    "        \n",
    "a1 = TempClass(\"hyunsoo\",2,3)\n",
    "s1 = a1.printself()"
   ]
  },
  {
   "cell_type": "code",
   "execution_count": null,
   "metadata": {},
   "outputs": [],
   "source": [
    "# 객체 인자들 확인\n",
    "\n",
    "s1.__dict__"
   ]
  },
  {
   "cell_type": "code",
   "execution_count": null,
   "metadata": {},
   "outputs": [],
   "source": [
    "[i for i in dir(s1) if '__' not in i]"
   ]
  },
  {
   "cell_type": "code",
   "execution_count": null,
   "metadata": {},
   "outputs": [],
   "source": [
    "from easydict import EasyDict\n",
    "\n",
    "self = EasyDict(dict())\n",
    "self[\"name\"] = \"hyunsoo\"\n",
    "self[\"age\"] = 2\n",
    "self[\"count\"] = 3\n",
    "\n",
    "s2 = self\n",
    "\n",
    "s2.age"
   ]
  },
  {
   "cell_type": "markdown",
   "metadata": {},
   "source": [
    "##### 1) Class 작성"
   ]
  },
  {
   "cell_type": "code",
   "execution_count": null,
   "metadata": {},
   "outputs": [],
   "source": [
    "class DBconnector:\n",
    "    def __init__(self, host, database, user, password, port):\n",
    "        self.host = host\n",
    "        self.database = database\n",
    "        self.user = user\n",
    "        self.password = password\n",
    "        self.port = port\n",
    "\n",
    "    def postgres_connect(self):\n",
    "        self.conn = psycopg2.connect(host=self.host,\\\n",
    "                                    dbname=self.database,\\\n",
    "                                    user=self.user, \\\n",
    "                                    password=self.password, \\\n",
    "                                    port=self.port)\n",
    "        \n",
    "        return self\n",
    "    "
   ]
  },
  {
   "cell_type": "code",
   "execution_count": null,
   "metadata": {},
   "outputs": [],
   "source": [
    "(host, database, user, password, port)"
   ]
  },
  {
   "cell_type": "code",
   "execution_count": null,
   "metadata": {},
   "outputs": [],
   "source": [
    "db_object = DBconnector(host, database, user, password, port)\n",
    "db_conn = db_object.postgres_connect().conn\n",
    "\n",
    "cursor=db_conn.cursor()"
   ]
  },
  {
   "cell_type": "code",
   "execution_count": null,
   "metadata": {},
   "outputs": [],
   "source": [
    "cursor.execute(\"SELECT * FROM lecture LIMIT 5\")\n",
    "cursor.fetchall()"
   ]
  },
  {
   "cell_type": "markdown",
   "metadata": {},
   "source": [
    "##### 2) with문 적용\n",
    "Bad Case\n",
    "\n",
    "<img src=\"https://velog.velcdn.com/images/newnew_daddy/post/df312bda-0b22-4476-8a03-505f1d3cf5b4/image.png\" width=\"20%\">\n",
    "\n",
    "Good Case\n",
    "\n",
    "<img src=\"https://velog.velcdn.com/images/newnew_daddy/post/707d46b0-8a0b-4862-ad95-285dc04ddc29/image.png\" width=\"20%\">\n",
    "\n",
    "- Python에서 파일 또는 리소스 관리를 더 효과적으로 처리하기 위한 블록 구조\n",
    "- 리소스를 열고 사용한 후 자동으로 닫아주기 때문에 닫아주는 코드를 작성할 필요가 없습니다. \n",
    "- 주로 파일 입출력, 데이터베이스 연결, 네트워크 연결 등 리소스 관리에 사용됩니다.\n",
    "\n",
    "    ```\n",
    "    with문을 사용할 때는 with 키워드 다음에 리소스를 관리하는 객체를 생성하는 표현식을 사용하며, \n",
    "    이 객체는 __enter__와 __exit__ 메소드를 구현해야 합니다. \n",
    "    with 블록 내에서 리소스를 사용하고 블록을 벗어나면 __exit__ 메소드가 호출되어 리소스를 정리합니다.\n",
    "\n",
    "    -ChatGPT-\n",
    "    ```"
   ]
  },
  {
   "cell_type": "code",
   "execution_count": null,
   "metadata": {},
   "outputs": [],
   "source": [
    "file = open('temp.txt', 'a')\n",
    "file.write(\"1\")\n",
    "file.write(\"2\")"
   ]
  },
  {
   "cell_type": "code",
   "execution_count": null,
   "metadata": {},
   "outputs": [],
   "source": [
    "file.write(\"sadfsadf\")\n",
    "file.write(\"234\")"
   ]
  },
  {
   "cell_type": "code",
   "execution_count": null,
   "metadata": {},
   "outputs": [],
   "source": [
    "file.close()"
   ]
  },
  {
   "cell_type": "code",
   "execution_count": null,
   "metadata": {},
   "outputs": [],
   "source": [
    "db_object = DBconnector(host, database, user, password, port)\n",
    "\n",
    "with db_object as connected:\n",
    "    db_conn = connected.conn\n",
    "    cursor=db_conn.cursor()\n",
    "\n",
    "    cursor.execute(\"SELECT * FROM lecture LIMIT 5\")\n",
    "    print(cursor.fetchall())"
   ]
  },
  {
   "cell_type": "markdown",
   "metadata": {},
   "source": [
    "##### 3) enter, exit 적용\n",
    "\n",
    "> https://docs.python.org/ko/3/reference/datamodel.html#object.__enter__"
   ]
  },
  {
   "cell_type": "code",
   "execution_count": null,
   "metadata": {},
   "outputs": [],
   "source": [
    "class ContextManager:\n",
    "    def __init__(self, age):\n",
    "        print(\"Class 진입\")\n",
    "        self.age = age\n",
    "        \n",
    "    def __enter__(self):\n",
    "        print(\"enter 시작\")\n",
    "        \n",
    "    def __exit__(self, exc_type, exc_value, traceback):\n",
    "        print(\"exit 종료\")\n",
    "        \n",
    "    def haha(self):\n",
    "        print(self.age)\n",
    "        return self.__dict__"
   ]
  },
  {
   "cell_type": "code",
   "execution_count": null,
   "metadata": {},
   "outputs": [],
   "source": [
    "context = ContextManager(10)\n",
    "    \n",
    "with context:\n",
    "    print(context.haha())\n",
    "    "
   ]
  },
  {
   "cell_type": "code",
   "execution_count": null,
   "metadata": {},
   "outputs": [],
   "source": [
    "class DBconnector:\n",
    "    def __init__(self, host, database, user, password, port):\n",
    "        self.host = host\n",
    "        self.database = database\n",
    "        self.user = user\n",
    "        self.password = password\n",
    "        self.port = port\n",
    "        self.connect = self.postgres_connect()\n",
    "\n",
    "    def __enter__(self):\n",
    "        print(\"접속\")\n",
    "        return self\n",
    "\n",
    "    def __exit__(self, exc_type, exc_value, traceback):\n",
    "        self.conn.close()\n",
    "        print(\"종료\")\n",
    "\n",
    "    def postgres_connect(self):\n",
    "        self.conn = psycopg2.connect(host=self.host,\\\n",
    "                                    dbname=self.database,\\\n",
    "                                    user=self.user, \\\n",
    "                                    password=self.password, \\\n",
    "                                    port=self.port)\n",
    "        \n",
    "        return self\n",
    "    "
   ]
  },
  {
   "cell_type": "code",
   "execution_count": null,
   "metadata": {},
   "outputs": [],
   "source": [
    "db_object = DBconnector(host, database, user, password, port)\n",
    "db_conn = db_object.postgres_connect().conn\n",
    "\n",
    "cursor=db_conn.cursor()"
   ]
  },
  {
   "cell_type": "code",
   "execution_count": null,
   "metadata": {},
   "outputs": [],
   "source": [
    "db_object = DBconnector(host, database, user, password, port)\n",
    "\n",
    "with db_object as connected:\n",
    "    db_conn = connected.conn\n",
    "    cursor=db_conn.cursor()\n",
    "\n",
    "    cursor.execute(\"SELECT * FROM lecture LIMIT 5\")\n",
    "    print(cursor.fetchall())\n",
    "\n"
   ]
  },
  {
   "cell_type": "markdown",
   "metadata": {},
   "source": [
    "##### 4) connection parameter 합치기"
   ]
  },
  {
   "cell_type": "code",
   "execution_count": null,
   "metadata": {},
   "outputs": [],
   "source": [
    "class DBconnector:\n",
    "    def __init__(self, host, database, user, password, port):\n",
    "        self.conn_params = dict(\n",
    "            host = host,\n",
    "            dbname = database,\n",
    "            user = user,\n",
    "            password = password,\n",
    "            port=  port\n",
    "        )\n",
    "        self.host = host\n",
    "        self.database = database\n",
    "        self.user = user\n",
    "        self.password = password\n",
    "        self.port = port\n",
    "        # self.connect = self.postgres_connect()\n",
    "\n",
    "    def __enter__(self):\n",
    "        print(\"접속\")\n",
    "        return self\n",
    "\n",
    "    def __exit__(self, exc_type, exc_value, traceback):\n",
    "        self.conn.close()\n",
    "        print(\"종료\")\n",
    "\n",
    "    def postgres_connect(self):\n",
    "        self.conn = psycopg2.connect(host=self.host,\\\n",
    "                                    dbname=self.database,\\\n",
    "                                    user=self.user, \\\n",
    "                                    password=self.password, \\\n",
    "                                    port=self.port)\n",
    "        \n",
    "        return self\n",
    "    "
   ]
  },
  {
   "cell_type": "markdown",
   "metadata": {},
   "source": [
    "##### 5) Asterisk(*)에 대한 이해"
   ]
  },
  {
   "cell_type": "code",
   "execution_count": null,
   "metadata": {},
   "outputs": [],
   "source": [
    "def func(one, two):\n",
    "    print(\"one = \", one)\n",
    "    print(\"two = \", two)\n",
    "\n",
    "func(1,2)"
   ]
  },
  {
   "cell_type": "code",
   "execution_count": null,
   "metadata": {},
   "outputs": [],
   "source": [
    "# *args -> 이름이 정해지지 않은 변수 여러개\n",
    "\n",
    "def func(*args):\n",
    "    print(\"args = \", args)\n",
    "    print(sum(args))\n",
    "    \n",
    "func(1,2,3)"
   ]
  },
  {
   "cell_type": "code",
   "execution_count": null,
   "metadata": {},
   "outputs": [],
   "source": [
    "# **kwargs -> 이름이 정해져있는 변수 여러개(key-value 조합)\n",
    "\n",
    "def func(**kwargs):\n",
    "    print(\"kwargs = \", kwargs)\n",
    "    \n",
    "func(one=1)"
   ]
  },
  {
   "cell_type": "code",
   "execution_count": null,
   "metadata": {},
   "outputs": [],
   "source": [
    "# 개별 변수\n",
    "\n",
    "test = DBconnector(1,2,3,4,5)\n",
    "\n",
    "test.conn_params"
   ]
  },
  {
   "cell_type": "code",
   "execution_count": null,
   "metadata": {},
   "outputs": [],
   "source": [
    "# List\n",
    "\n",
    "args = [1,2,3,4,5]\n",
    "\n",
    "list_params = DBconnector(*args)\n",
    "\n",
    "list_params.conn_params"
   ]
  },
  {
   "cell_type": "code",
   "execution_count": null,
   "metadata": {},
   "outputs": [],
   "source": [
    "# Dictionary\n",
    "\n",
    "kwargs = dict(\n",
    "            host = 1,\n",
    "            database = 2,\n",
    "            user = 3,\n",
    "            password = 4,\n",
    "            port=  5\n",
    "        )\n",
    "\n",
    "dict_params = DBconnector(**kwargs)\n",
    "\n",
    "dict_params.conn_params"
   ]
  },
  {
   "cell_type": "markdown",
   "metadata": {},
   "source": [
    "##### 6) DBconnector에 asterisk 적용"
   ]
  },
  {
   "cell_type": "code",
   "execution_count": null,
   "metadata": {},
   "outputs": [],
   "source": [
    "class DBconnector:\n",
    "    def __init__(self, host, database, user, password, port):\n",
    "        self.conn_params = dict(\n",
    "            host = host,\n",
    "            dbname = database,\n",
    "            user = user,\n",
    "            password = password,\n",
    "            port=  port\n",
    "        )\n",
    "        self.connect = self.postgres_connect()\n",
    "\n",
    "    def __enter__(self):\n",
    "        print(\"접속\")\n",
    "        return self\n",
    "\n",
    "    def __exit__(self, exc_type, exc_value, traceback):\n",
    "        self.conn.close()\n",
    "        print(\"종료\")\n",
    "\n",
    "    def postgres_connect(self):\n",
    "        self.conn = psycopg2.connect(**self.conn_params)\n",
    "        \n",
    "        return self\n",
    "    "
   ]
  },
  {
   "cell_type": "code",
   "execution_count": null,
   "metadata": {},
   "outputs": [],
   "source": [
    "db_object = DBconnector(host, database, user, password, port)\n",
    "\n",
    "with db_object as connected:\n",
    "    db_conn = connected.conn\n",
    "    cursor=db_conn.cursor()\n",
    "\n",
    "    cursor.execute(\"SELECT * FROM lecture LIMIT 5\")\n",
    "    print(cursor.fetchall())"
   ]
  },
  {
   "cell_type": "markdown",
   "metadata": {},
   "source": [
    "##### 7) .env 적용한 connection"
   ]
  },
  {
   "cell_type": "code",
   "execution_count": null,
   "metadata": {},
   "outputs": [],
   "source": [
    "import dotenv, psycopg2\n",
    "\n",
    "env_path = dotenv.find_dotenv()\n",
    "dotenv.load_dotenv(env_path)\n",
    "\n",
    "import os\n",
    "\n",
    "engine = os.environ.get(\"POSTGRES_ENGINE\")\n",
    "host = os.environ.get(\"POSTGRES_HOST\")\n",
    "database = os.environ.get(\"POSTGRES_DB_1\")\n",
    "user = os.environ.get(\"POSTGRES_USER\")\n",
    "password = os.environ.get(\"POSTGRES_PASSWORD\")\n",
    "port = os.environ.get(\"POSTGRES_PORT\")"
   ]
  },
  {
   "cell_type": "code",
   "execution_count": null,
   "metadata": {},
   "outputs": [],
   "source": [
    "DB_SETTINGS = {\n",
    "    \"POSTGRES\" : {\n",
    "        # 'engine' : os.environ.get(\"POSTGRES_ENGINE\"),\n",
    "        'host' : os.environ.get(\"POSTGRES_HOST\"),\n",
    "        'database' : os.environ.get(\"POSTGRES_DB_1\"),\n",
    "        'user' : os.environ.get(\"POSTGRES_USER\"),\n",
    "        'password' : os.environ.get(\"POSTGRES_PASSWORD\"),\n",
    "        'port' : os.environ.get(\"POSTGRES_PORT\")\n",
    "    },\n",
    "}\n",
    "\n",
    "DB_SETTINGS['POSTGRES']"
   ]
  },
  {
   "cell_type": "code",
   "execution_count": null,
   "metadata": {},
   "outputs": [],
   "source": [
    "db_object = DBconnector(**DB_SETTINGS['POSTGRES'])\n",
    "\n",
    "# with db_object as connected:\n",
    "#     db_conn = connected.conn\n",
    "#     cursor=db_conn.cursor()\n",
    "\n",
    "#     cursor.execute(\"SELECT * FROM lecture LIMIT 5\")\n",
    "#     print(cursor.fetchall())"
   ]
  },
  {
   "cell_type": "markdown",
   "metadata": {},
   "source": [
    "##### 8) 다른 이름의 Database 생성 및 접속"
   ]
  },
  {
   "cell_type": "code",
   "execution_count": null,
   "metadata": {},
   "outputs": [],
   "source": [
    "DB_SETTINGS = {\n",
    "    \"POSTGRES\" : {\n",
    "        'host' : os.environ.get(\"POSTGRES_HOST\"),\n",
    "        'database' : os.environ.get(\"POSTGRES_DB_1\"),\n",
    "        'user' : os.environ.get(\"POSTGRES_USER\"),\n",
    "        'password' : os.environ.get(\"POSTGRES_PASSWORD\"),\n",
    "        'port' : os.environ.get(\"POSTGRES_PORT\")\n",
    "    },\n",
    "    \"KDT\" : {\n",
    "        'host' : os.environ.get(\"POSTGRES_HOST\"),\n",
    "        'database' : os.environ.get(\"POSTGRES_DB_2\"),\n",
    "        'user' : os.environ.get(\"POSTGRES_USER\"),\n",
    "        'password' : os.environ.get(\"POSTGRES_PASSWORD\"),\n",
    "        'port' : os.environ.get(\"POSTGRES_PORT\")\n",
    "    }\n",
    "}\n",
    "\n",
    "DB_SETTINGS['KDT']"
   ]
  },
  {
   "cell_type": "code",
   "execution_count": null,
   "metadata": {},
   "outputs": [],
   "source": [
    "db_object = DBconnector(**DB_SETTINGS['KDT'])\n",
    "\n",
    "with db_object as connected:\n",
    "    db_conn = connected.conn\n",
    "    cursor=db_conn.cursor()\n",
    "\n",
    "    cursor.execute(\"SELECT table_name FROM INFORMATION_SCHEMA.TABLES\")\n",
    "    print(cursor.fetchall())"
   ]
  }
 ],
 "metadata": {
  "kernelspec": {
   "display_name": "Python 3.9.7 ('base')",
   "language": "python",
   "name": "python3"
  },
  "language_info": {
   "codemirror_mode": {
    "name": "ipython",
    "version": 3
   },
   "file_extension": ".py",
   "mimetype": "text/x-python",
   "name": "python",
   "nbconvert_exporter": "python",
   "pygments_lexer": "ipython3",
   "version": "3.9.7"
  },
  "orig_nbformat": 4,
  "vscode": {
   "interpreter": {
    "hash": "6f5583cf1d9466b5c27e75c89cc6b383bed5736d6b16c51c8074d8690011a952"
   }
  }
 },
 "nbformat": 4,
 "nbformat_minor": 2
}

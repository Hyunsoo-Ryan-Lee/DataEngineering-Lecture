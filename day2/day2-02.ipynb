{
 "cells": [
  {
   "cell_type": "markdown",
   "metadata": {},
   "source": [
    "## 1. Controller.py\n",
    "    - extractor, transformer 등 개별 모듈들에 대하여 순서대로 명령을 내려주는 Main 파일"
   ]
  },
  {
   "cell_type": "code",
   "execution_count": null,
   "metadata": {},
   "outputs": [],
   "source": [
    "def main():\n",
    "    \"1. DB 커넥터 생성\"\n",
    "    \n",
    "    \"2. queries에서 테이블 이름 목록(table_list) 받아오기\"\n",
    "    \n",
    "    for tbl in table_list:\n",
    "        \"3. extract >> DB 조회 후 dataframe 형태로 변환\"\n",
    "        \n",
    "        \"4. transform >> 저장 경로 생성 후 임시 저장 디렉토리 아래에 dataframe 저장\"\n",
    "        \n",
    "        \"5. load >> 저장소에 dataframe 파일 저장\"\n",
    "    \n",
    "    \"6. remove >> 저장이 끝난 후 임시 저장 디렉토리 삭제\""
   ]
  },
  {
   "cell_type": "code",
   "execution_count": 1,
   "metadata": {},
   "outputs": [],
   "source": [
    "# 필요한 모듈들 import\n",
    "\n",
    "from db.connector import DBconnector\n",
    "from db.postgresql_query import queries\n",
    "# from db.mysql_query import queries\n",
    "from settings import DB_SETTINGS, TEMP_PATH\n",
    "from pipeline.extract import extractor\n",
    "from pipeline.transform import transformer\n",
    "from pipeline.load import loader\n",
    "from pipeline.remove import remover"
   ]
  },
  {
   "cell_type": "code",
   "execution_count": 2,
   "metadata": {},
   "outputs": [
    {
     "name": "stdout",
     "output_type": "stream",
     "text": [
      "fake_user\n",
      "EXTRACTOR\n",
      "DB에 접속합니다.\n",
      "DB 연결을 끊습니다.\n"
     ]
    },
    {
     "name": "stderr",
     "output_type": "stream",
     "text": [
      "d:\\KDT_Lecture\\Lecture\\day3\\pipeline\\extract.py:13: UserWarning: pandas only supports SQLAlchemy connectable (engine/connection) or database string URI or sqlite3 DBAPI2 connection. Other DBAPI2 objects are not tested. Please consider using SQLAlchemy.\n",
      "  df = pd.read_sql(_query, connected.conn)\n"
     ]
    }
   ],
   "source": [
    "# main controller 함수 작성\n",
    "\n",
    "batch_date = \"20230416\"\n",
    "\n",
    "def main(batch_date):\n",
    "    \n",
    "    db_connector = DBconnector(**DB_SETTINGS['POSTGRES'])\n",
    "    \n",
    "    for table_name in queries:\n",
    "        print(table_name)\n",
    "        pandas_df = extractor(db_connector, table_name, batch_date)\n",
    "        res = transformer(batch_date, pandas_df, table_name)\n",
    "        print(res)\n",
    "        if res:\n",
    "            \n",
    "            db_connector = DBconnector(**DB_SETTINGS['POSTGRES'])\n",
    "            \n",
    "            loader(db_connector, pandas_df, table_name)\n",
    "            \n",
    "    # remover(TEMP_PATH)\n",
    "            \n",
    "\n",
    "main(batch_date)\n",
    "    "
   ]
  },
  {
   "cell_type": "markdown",
   "metadata": {},
   "source": [
    "## 2. start.py\n",
    "\n",
    "    - 모듈의 시작점이자, controller 함수에 배치 날짜를 전달해주는 파일"
   ]
  },
  {
   "cell_type": "markdown",
   "metadata": {},
   "source": [
    "### Click 모듈\n",
    "- CLI로 옵션이나 인자를 넘겨서 python 스크립트를 실행할 수 있도록 도와주는 라이브러리\n",
    "- [CLICK DOCS](https://click.palletsprojects.com/en/8.1.x/options/#)"
   ]
  },
  {
   "cell_type": "code",
   "execution_count": null,
   "metadata": {},
   "outputs": [],
   "source": [
    "import click\n",
    "\n",
    "@click.command()\n",
    "@click.option('-s', '--string-to-echo')\n",
    "def click_test(string_to_echo):\n",
    "    print(string_to_echo)"
   ]
  },
  {
   "cell_type": "code",
   "execution_count": 4,
   "metadata": {},
   "outputs": [],
   "source": [
    "from datetime import datetime, timedelta, timezone\n",
    "import click\n",
    "\n",
    "@click.command\n",
    "@click.option('-d', '--custom-batch-date', type=click.STRING, default='', help='배치작업연월일')\n",
    "def start_batch(custom_batch_date):\n",
    "    \n",
    "    if custom_batch_date:\n",
    "        batch_date = custom_batch_date\n",
    "    else:\n",
    "        batch_date = (datetime.now(timezone(timedelta(hours=9))) - timedelta(days = 1)).strftime('%Y%m%d')\n",
    "        \n",
    "    return batch_date"
   ]
  },
  {
   "cell_type": "code",
   "execution_count": 14,
   "metadata": {},
   "outputs": [
    {
     "name": "stdout",
     "output_type": "stream",
     "text": [
      "first\n",
      "EXTRACTOR\n",
      "DB에 접속합니다.\n",
      "DB 연결을 끊습니다.\n"
     ]
    },
    {
     "name": "stderr",
     "output_type": "stream",
     "text": [
      "d:\\KDT_Lecture\\Lecture\\day3\\pipeline\\extract.py:13: UserWarning: pandas only supports SQLAlchemy connectable (engine/connection) or database string URI or sqlite3 DBAPI2 connection. Other DBAPI2 objects are not tested. Please consider using SQLAlchemy.\n",
      "  df = pd.read_sql(_query, connected.conn)\n"
     ]
    }
   ],
   "source": [
    "from datetime import datetime, timedelta, timezone\n",
    "import click\n",
    "from pipeline import controller\n",
    "\n",
    "@click.command\n",
    "@click.option('-d', '--custom-batch-date', type=click.STRING, default='', help='배치작업연월일')\n",
    "\n",
    "def start_batch(custom_batch_date):\n",
    "    \n",
    "    print(\"START BATCH\")\n",
    "    \n",
    "    if custom_batch_date:\n",
    "        batch_date = custom_batch_date\n",
    "    else:\n",
    "        batch_date = (datetime.now(timezone(timedelta(hours=9))) - timedelta(days = 1)).strftime('%Y%m%d')\n",
    "        \n",
    "    controller.main(batch_date)\n",
    "\n",
    "if __name__ == \"__main__\":\n",
    "    start_batch()"
   ]
  },
  {
   "cell_type": "markdown",
   "metadata": {},
   "source": [
    "## 3. 타기종 DB에 Connect (MYSQL)"
   ]
  },
  {
   "cell_type": "markdown",
   "metadata": {},
   "source": [
    "##### 1)  MYSQL Server 다운로드\n",
    "- 설치\n",
    "> https://dev.mysql.com/downloads/file/?id=523568\n",
    "<img src=\"https://velog.velcdn.com/images/newnew_daddy/post/9e356258-2a6b-4edf-aa5d-54ab83e25eef/image.png\" width=\"80%\">\n",
    "\n",
    "- DBeaver Connect\n",
    "> https://deeplify.dev/database/troubleshoot/public-key-retrieval-is-not-allowed\n",
    "<img src=\"https://velog.velcdn.com/images/newnew_daddy/post/b8229e6b-f54b-4b2f-af9d-5cd03c703537/image.png\" width=\"80%\">"
   ]
  },
  {
   "cell_type": "markdown",
   "metadata": {},
   "source": [
    "##### 1) 커넥션 테스트"
   ]
  },
  {
   "cell_type": "code",
   "execution_count": 1,
   "metadata": {},
   "outputs": [],
   "source": [
    "# pymysql 라이브러리\n",
    "\n",
    "import pymysql\n",
    "\n",
    "host = 'localhost'\n",
    "port = 3306\n",
    "user = 'hyunsoo'\n",
    "passwd = '910506'\n",
    "db_name = 'faker'\n",
    "\n",
    "db = pymysql.connect(host=host, port=port, user=user, passwd=passwd, db=db_name, charset='utf8')"
   ]
  },
  {
   "cell_type": "code",
   "execution_count": null,
   "metadata": {},
   "outputs": [],
   "source": [
    "# sqlalchemy 라이브러리\n",
    "\n",
    "import pandas as pd\n",
    "from sqlalchemy import create_engine\n",
    "from sqlalchemy.orm import sessionmaker\n",
    "\n",
    "engine_name = 'mysql+pymysql'\n",
    "user_id = 'hyunsoo'\n",
    "user_pw = '910506'\n",
    "host = 'localhost'\n",
    "ip = '3306'\n",
    "db_name = 'faker'   \n",
    "\n",
    "db_orm = create_engine(f'{engine_name}://{user_id}:{user_pw}@{host}:{ip}/{db_name}')"
   ]
  },
  {
   "cell_type": "markdown",
   "metadata": {},
   "source": [
    "##### 2) 데이터 넣기"
   ]
  },
  {
   "cell_type": "code",
   "execution_count": null,
   "metadata": {},
   "outputs": [],
   "source": [
    "import os\n",
    "\n",
    "for i in os.listdir('D:\\KDT_Lecture\\Lecture\\mysql_data'):\n",
    "    db_orm = create_engine(f'{engine_name}://{user_id}:{user_pw}@{host}:{ip}/{db_name}')\n",
    "    \n",
    "    root = 'D:\\KDT_Lecture\\Lecture\\mysql_data'\n",
    "    path = os.path.join(root, i)\n",
    "    tbl_name = i.replace('.csv', '')\n",
    "    print(tbl_name)\n",
    "    df = pd.read_csv(path)\n",
    "    df.to_sql(name=tbl_name, con=db_orm, if_exists='replace')"
   ]
  },
  {
   "cell_type": "markdown",
   "metadata": {},
   "source": [
    "## 4. DBConnector.py에 MYSQL Connector 통합 실습\n",
    "\n",
    "1. MYSQL Connection 함수 생성\n",
    "\n",
    "2. DBConnector.py 파일 및 .env 파일에 MYSQL 관련 내용 반영\n",
    "\n",
    "3. `DBconnector(**DB_SETTINGS['MYSQL'])` 코드를 통해 connection 생성"
   ]
  },
  {
   "cell_type": "code",
   "execution_count": null,
   "metadata": {},
   "outputs": [],
   "source": []
  }
 ],
 "metadata": {
  "kernelspec": {
   "display_name": "Python 3.9.7 ('base')",
   "language": "python",
   "name": "python3"
  },
  "language_info": {
   "codemirror_mode": {
    "name": "ipython",
    "version": 3
   },
   "file_extension": ".py",
   "mimetype": "text/x-python",
   "name": "python",
   "nbconvert_exporter": "python",
   "pygments_lexer": "ipython3",
   "version": "3.9.7"
  },
  "orig_nbformat": 4,
  "vscode": {
   "interpreter": {
    "hash": "6f5583cf1d9466b5c27e75c89cc6b383bed5736d6b16c51c8074d8690011a952"
   }
  }
 },
 "nbformat": 4,
 "nbformat_minor": 2
}

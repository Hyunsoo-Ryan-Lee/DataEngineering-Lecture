{
 "cells": [
  {
   "cell_type": "markdown",
   "id": "82693e7c",
   "metadata": {},
   "source": [
    "# Great Expectations\n",
    "\n",
    "#### 특정 데이터셋의 품질관리 및 데이터 파이프라인에서 데이터의 무결성과 일관성을 확인하는데 도움을 주는 데이터 검증 라이브러리\n",
    "\n",
    "<img src=\"https://velog.velcdn.com/images/newnew_daddy/post/d510bf11-9c75-491b-b8ea-485866e838c2/image.png\" width=\"40%\">\n",
    "<img src=\"https://velog.velcdn.com/images/newnew_daddy/post/c801020f-ce37-442a-bf82-3c0d20d485ea/image.png\" width=\"45%\">"
   ]
  },
  {
   "cell_type": "markdown",
   "id": "08ae8102",
   "metadata": {},
   "source": [
    "### product.csv DATASET\n",
    "\n",
    ">1. product DATASET의 row의 수가 500-1000 사이인가?\n",
    ">2. 'ProductKey' 컬럼에 중복 값은 없을까?\n",
    ">3. 'EnglishDescription' 컬럼에 Null값의 비율이 40% 이하일까?\n",
    ">4. 'ReorderPoint' 컬럼의 데이터 타입이 int64 혹은 float64 형으로 구성되어 있을까?\n",
    ">5. 'ProductSubcategoryKey' 컬럼의 값들의 범위가 0-40 사이인가?\n",
    ">6. 'ProductLine' 컬럼이 가진 값들이 ['R', 'S', 'M', 'T'] 내에 존재할까?\n",
    "\n",
    "#### >>> 이렇게 여러개의 조건에 대한 검증을 한 번에 수행할 수는 없을까?\n",
    "\n"
   ]
  },
  {
   "cell_type": "markdown",
   "id": "ed16c79b",
   "metadata": {},
   "source": [
    "#### 1. Python 함수를 통한 검증"
   ]
  },
  {
   "cell_type": "code",
   "execution_count": null,
   "id": "6e5702c6",
   "metadata": {},
   "outputs": [],
   "source": [
    "import great_expectations as ge\n"
   ]
  },
  {
   "cell_type": "code",
   "execution_count": null,
   "id": "9601f69c",
   "metadata": {},
   "outputs": [],
   "source": [
    "import pandas as pd\n",
    "\n",
    "df = pd.read_csv(\"../dataset/data-03/product.csv\")"
   ]
  },
  {
   "cell_type": "code",
   "execution_count": null,
   "id": "ca4968ff",
   "metadata": {},
   "outputs": [],
   "source": [
    "def validation(df):\n",
    "    val = []\n",
    "    length = len(df)\n",
    "    com_list = set(['R', 'S', 'M', 'T'])\n",
    "    if 500 <= length <= 1000:\n",
    "        val.append(1)\n",
    "    if length == len(df.ProductKey.unique()):\n",
    "        val.append(2)\n",
    "    if len(df[df.EnglishDescription.notna()]) / len(df) > 0.6:\n",
    "        val.append(3)\n",
    "    if str(df.dtypes.ReorderPoint) == 'int64' or str(df.dtypes.ReorderPoint) == 'float64':\n",
    "        val.append(4)\n",
    "    if len(com_list) == len(com_list.intersection(set(df.ProductLine.unique()))):\n",
    "        val.append(5)\n",
    "    if df.ProductSubcategoryKey.min() >= 0 and df.ProductSubcategoryKey.max() <= 40:\n",
    "        val.append(6)\n",
    "    print(val)\n",
    "    if len(val) == 6:\n",
    "        return True\n",
    "    else:\n",
    "        return False"
   ]
  },
  {
   "cell_type": "code",
   "execution_count": null,
   "id": "6ea5d57a",
   "metadata": {},
   "outputs": [],
   "source": [
    "# ge_df.expect_table_row_count_to_be_between(500, 1000)\n",
    "# ge_df.expect_column_values_to_be_unique('ProductKey')\n",
    "# ge_df.expect_column_values_to_not_be_null(\"EnglishDescription\", mostly=0.60)\n",
    "# ge_df.expect_column_values_to_be_in_type_list(\"ProductKey\", [\"int\", \"int64\"])\n",
    "# ge_df.expect_column_values_to_be_between('ProductSubcategoryKey', min_value=0, max_value=40)\n",
    "# ge_df.expect_column_values_to_be_in_set(\"ProductLine\", ['R', 'S', 'M', 'T'])"
   ]
  },
  {
   "cell_type": "markdown",
   "id": "bf6efc37",
   "metadata": {},
   "source": [
    "#### 2. Great Expectation Tool을 통한 검증"
   ]
  },
  {
   "cell_type": "code",
   "execution_count": null,
   "id": "7b10cdcc",
   "metadata": {},
   "outputs": [],
   "source": [
    "ge_df = ge.from_pandas(df)"
   ]
  },
  {
   "cell_type": "code",
   "execution_count": null,
   "id": "d18591c7",
   "metadata": {},
   "outputs": [],
   "source": [
    "type(ge_df)"
   ]
  },
  {
   "cell_type": "markdown",
   "id": "e754f444",
   "metadata": {},
   "source": [
    "### GE Data Quality Tests"
   ]
  },
  {
   "cell_type": "code",
   "execution_count": null,
   "id": "b8fd5866",
   "metadata": {},
   "outputs": [],
   "source": [
    "# check number of rows in the dataset\n",
    "ge_df.expect_table_row_count_to_equal(1000)\n",
    "\n",
    "# ge_df.expect_table_row_count_to_be_between(1000, 50000)"
   ]
  },
  {
   "cell_type": "markdown",
   "id": "dfbc4376",
   "metadata": {},
   "source": [
    "### Primary Key Test"
   ]
  },
  {
   "cell_type": "code",
   "execution_count": null,
   "id": "cf4706d7",
   "metadata": {},
   "outputs": [],
   "source": [
    "ge_df.expect_column_to_exist('ProductKey')"
   ]
  },
  {
   "cell_type": "code",
   "execution_count": null,
   "id": "88a6f568",
   "metadata": {},
   "outputs": [],
   "source": [
    "ge_df.expect_column_values_to_be_unique('ProductKey')"
   ]
  },
  {
   "cell_type": "code",
   "execution_count": null,
   "id": "8fd0f580",
   "metadata": {},
   "outputs": [],
   "source": [
    "ge_df.expect_column_values_to_be_between('ProductSubcategoryKey', min_value=0, max_value=35, mostly=0.8)"
   ]
  },
  {
   "cell_type": "code",
   "execution_count": null,
   "id": "4b975d6c",
   "metadata": {},
   "outputs": [],
   "source": [
    "ge_df.expect_column_values_to_be_in_type_list(\"ReorderPoint\", [\"float64\", \"int64\"])"
   ]
  },
  {
   "cell_type": "markdown",
   "id": "2b5f7801",
   "metadata": {},
   "source": [
    "### Test values in a set (list)"
   ]
  },
  {
   "cell_type": "code",
   "execution_count": null,
   "id": "a8bc15ab",
   "metadata": {},
   "outputs": [],
   "source": [
    "df.ProductLine.unique()"
   ]
  },
  {
   "cell_type": "code",
   "execution_count": null,
   "id": "bdd6466f",
   "metadata": {},
   "outputs": [],
   "source": [
    "ge_df.expect_column_values_to_be_in_set(\"ProductLine\", ['R', 'S', 'M', 'T'])"
   ]
  },
  {
   "cell_type": "code",
   "execution_count": null,
   "id": "eae36dd6",
   "metadata": {},
   "outputs": [],
   "source": [
    "ge_df.expect_column_values_to_be_in_set(\"Color\", [ 'Black', 'Silver', 'Red', 'White', 'Blue', 'Multi', 'Yellow','Grey', 'Silver'])"
   ]
  },
  {
   "cell_type": "markdown",
   "id": "09251dae",
   "metadata": {},
   "source": [
    "### Check min and Max range of column"
   ]
  },
  {
   "cell_type": "code",
   "execution_count": null,
   "id": "0d12de87",
   "metadata": {},
   "outputs": [],
   "source": [
    "df.SafetyStockLevel.unique()"
   ]
  },
  {
   "cell_type": "code",
   "execution_count": null,
   "id": "e977c16c",
   "metadata": {},
   "outputs": [],
   "source": [
    "ge_df.expect_column_max_to_be_between(\"SafetyStockLevel\", 1, 1000)"
   ]
  },
  {
   "cell_type": "code",
   "execution_count": null,
   "id": "84ee1f1b",
   "metadata": {},
   "outputs": [],
   "source": [
    "ge_df.expect_column_max_to_be_between(\"DaysToManufacture\", 1, 10)"
   ]
  },
  {
   "cell_type": "code",
   "execution_count": null,
   "id": "80442b4c",
   "metadata": {},
   "outputs": [],
   "source": [
    "ge_df.expect_column_mean_to_be_between(\"StandardCost\", 100, 500)"
   ]
  },
  {
   "cell_type": "markdown",
   "id": "205d3f86",
   "metadata": {},
   "source": [
    "### Test Text columns (Nulls)"
   ]
  },
  {
   "cell_type": "code",
   "execution_count": null,
   "id": "dc8332de",
   "metadata": {},
   "outputs": [],
   "source": [
    "ge_df.expect_column_values_to_not_be_null('EnglishProductName')"
   ]
  },
  {
   "cell_type": "code",
   "execution_count": null,
   "id": "7e48f793",
   "metadata": {},
   "outputs": [],
   "source": [
    "ge_df.expect_column_values_to_not_be_null(\"Color\", mostly=0.60)"
   ]
  },
  {
   "cell_type": "markdown",
   "id": "0e6d874f",
   "metadata": {},
   "source": [
    "### Save your test cases and re-use"
   ]
  },
  {
   "cell_type": "code",
   "execution_count": null,
   "id": "7f8faf0d",
   "metadata": {},
   "outputs": [],
   "source": [
    "ge_df.get_expectation_suite()"
   ]
  },
  {
   "cell_type": "code",
   "execution_count": null,
   "id": "82ed7f12",
   "metadata": {},
   "outputs": [],
   "source": [
    "ge_df.save_expectation_suite(\"product_suite.json\")"
   ]
  },
  {
   "cell_type": "code",
   "execution_count": null,
   "id": "42863663",
   "metadata": {},
   "outputs": [],
   "source": [
    "config = ge_df.get_expectation_suite()"
   ]
  },
  {
   "cell_type": "code",
   "execution_count": null,
   "id": "aa92bf57",
   "metadata": {},
   "outputs": [],
   "source": [
    "df_true = ge.read_csv(\"product_true.csv\")\n",
    "df_error = ge.read_csv(\"product_error.csv\")"
   ]
  },
  {
   "cell_type": "code",
   "execution_count": null,
   "id": "5f405eaf",
   "metadata": {},
   "outputs": [],
   "source": [
    "df_true.validate(expectation_suite=config)"
   ]
  },
  {
   "cell_type": "markdown",
   "id": "7ce69418",
   "metadata": {},
   "source": [
    "### Test with Config file"
   ]
  },
  {
   "cell_type": "code",
   "execution_count": null,
   "id": "1472decf",
   "metadata": {},
   "outputs": [],
   "source": [
    "# test_results = df_error.validate(expectation_suite=\"product.data.expectations.json\")\n",
    "df_error.validate(expectation_suite=\"product_suite.json\")"
   ]
  },
  {
   "cell_type": "code",
   "execution_count": null,
   "id": "6ad77b1d",
   "metadata": {},
   "outputs": [],
   "source": []
  }
 ],
 "metadata": {
  "kernelspec": {
   "display_name": "Python 3 (ipykernel)",
   "language": "python",
   "name": "python3"
  },
  "language_info": {
   "codemirror_mode": {
    "name": "ipython",
    "version": 3
   },
   "file_extension": ".py",
   "mimetype": "text/x-python",
   "name": "python",
   "nbconvert_exporter": "python",
   "pygments_lexer": "ipython3",
   "version": "3.9.7"
  }
 },
 "nbformat": 4,
 "nbformat_minor": 5
}

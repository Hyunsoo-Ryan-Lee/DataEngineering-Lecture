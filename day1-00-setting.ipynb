{
 "cells": [
  {
   "cell_type": "markdown",
   "metadata": {},
   "source": [
    "## 1. 개발 환경 구성"
   ]
  },
  {
   "cell_type": "markdown",
   "metadata": {},
   "source": [
    "#### 1) pgadmin4 다운로드\n",
    "\n",
    "> https://www.enterprisedb.com/downloads/postgres-postgresql-downloads\n",
    "\n",
    "> https://losskatsu.github.io/it-infra/postgresql-win/#%ED%94%84%EB%A1%A0%ED%8A%B8%EC%97%94%EB%93%9C"
   ]
  },
  {
   "cell_type": "markdown",
   "metadata": {},
   "source": [
    "#### 2) Postgresql User 생성"
   ]
  },
  {
   "cell_type": "markdown",
   "metadata": {},
   "source": [
    "<img src=\"https://velog.velcdn.com/images/newnew_daddy/post/44c194e7-9c53-4d46-a62a-3d9a38518edc/image.png\" width=\"30%\">\n",
    "\n",
    "---\n",
    "\n",
    "<img src=\"https://velog.velcdn.com/images/newnew_daddy/post/10e771da-14df-48f1-934f-fb53786320a4/image.png\" width=\"60%\">"
   ]
  },
  {
   "cell_type": "markdown",
   "metadata": {},
   "source": [
    "#### 3) 가상 환경 생성\n",
    "\n",
    "<img src=\"https://velog.velcdn.com/images/newnew_daddy/post/4c12dd86-90c4-416e-8701-1e64e86717c1/image.png\" width=\"30%\">\n",
    "\n",
    "```\n",
    "python -m venv lecture\n",
    "\n",
    "call lecture/Scripts/activate\n",
    "```"
   ]
  },
  {
   "cell_type": "code",
   "execution_count": 2,
   "metadata": {},
   "outputs": [],
   "source": [
    "!python -m venv datavenv"
   ]
  },
  {
   "cell_type": "markdown",
   "metadata": {},
   "source": [
    "##### 3-1) 가상 환경 활성화 - Kernel\n",
    "\n",
    "1. > !call kdt7/Scripts/activate\n",
    "2. UI에서 생성한 가상환경 선택"
   ]
  },
  {
   "cell_type": "code",
   "execution_count": 3,
   "metadata": {},
   "outputs": [],
   "source": [
    "!call datavenv/Scripts/activate"
   ]
  },
  {
   "cell_type": "markdown",
   "metadata": {},
   "source": [
    "##### 3-2) 가상 환경 활성화 - Terminal\n",
    "\n",
    "활성화\n",
    "  >call kdt7/Scripts/activate\n",
    "\n",
    "비활성화\n",
    "  >deactivate\n",
    "  \n",
    "  >kdt7/Scripts/deactivate.bat"
   ]
  },
  {
   "cell_type": "markdown",
   "metadata": {},
   "source": [
    "#### 4) 필요 라이브러리 설치\n",
    "\n",
    "```\n",
    "pip install -r requirements.txt\n",
    "```"
   ]
  },
  {
   "cell_type": "code",
   "execution_count": null,
   "metadata": {},
   "outputs": [],
   "source": [
    "!pip install -r requirements.txt"
   ]
  },
  {
   "cell_type": "markdown",
   "metadata": {},
   "source": [
    "#### 5) 라이브러리 설치 확인"
   ]
  },
  {
   "cell_type": "code",
   "execution_count": 4,
   "metadata": {},
   "outputs": [],
   "source": [
    "import psycopg2, pandas, sqlalchemy, pymysql, pyarrow, click, dotenv, boto3, shortuuid, streamlit, streamlit_autorefresh, faker"
   ]
  },
  {
   "cell_type": "markdown",
   "metadata": {},
   "source": [
    "## 2. 유용한 VSCODE 단축키"
   ]
  },
  {
   "cell_type": "markdown",
   "metadata": {},
   "source": [
    "| Shortcut                 | Description                                     |\n",
    "|--------------------------|-------------------------------------------------|\n",
    "| Ctrl + D                 | 같은 단어 연속 선택                                  |\n",
    "| Ctrl + F                 | 현재 파일에서 단어 검색                              |\n",
    "| Ctrl + Shift + F         | 현재 디렉토리의 모든 파일에 대해 단어 검색             |\n",
    "| Ctrl + B                 | Explorer 창 on/off                               |\n",
    "| Alt + 방향키(위아래) | 선택한 코드 블럭 위아래로 이동                      |\n",
    "| Shift + Alt + 방향키(위아래) | 선택한 코드 블럭 위아래로 복사                      |\n",
    "| Ctrl + ~                 | 터미널 창 on/off                                  |\n",
    "| Ctrl + Shift + 5         | 터미널 창 split                                 |\n",
    "| Ctrl + 2                 | 작업 창 split                                  |\n",
    "| F1                       | Show Command Palette "
   ]
  }
 ],
 "metadata": {
  "kernelspec": {
   "display_name": "base",
   "language": "python",
   "name": "python3"
  },
  "language_info": {
   "codemirror_mode": {
    "name": "ipython",
    "version": 3
   },
   "file_extension": ".py",
   "mimetype": "text/x-python",
   "name": "python",
   "nbconvert_exporter": "python",
   "pygments_lexer": "ipython3",
   "version": "3.9.7"
  }
 },
 "nbformat": 4,
 "nbformat_minor": 2
}
